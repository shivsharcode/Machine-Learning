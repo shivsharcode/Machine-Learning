{
 "cells": [
  {
   "cell_type": "markdown",
   "id": "3d93d343-4214-4f08-a4f3-3066891e42a6",
   "metadata": {
    "editable": true,
    "slideshow": {
     "slide_type": ""
    },
    "tags": []
   },
   "source": [
    "# ............................................................... Movie Recommedation Model  .........................................................."
   ]
  },
  {
   "cell_type": "markdown",
   "id": "38ae93db-0278-4805-a202-ab958b473549",
   "metadata": {},
   "source": [
    "### 1. Import Libraries"
   ]
  },
  {
   "cell_type": "code",
   "execution_count": null,
   "id": "415ddd88-7fd9-4c6f-b32f-87b620246650",
   "metadata": {
    "editable": true,
    "slideshow": {
     "slide_type": ""
    },
    "tags": []
   },
   "outputs": [],
   "source": [
    "import numpy as np\n",
    "import pandas as pd\n"
   ]
  },
  {
   "cell_type": "code",
   "execution_count": null,
   "id": "701be5f3-3280-4f5f-b2c7-27c9a5b577e0",
   "metadata": {},
   "outputs": [],
   "source": [
    "import difflib"
   ]
  },
  {
   "cell_type": "markdown",
   "id": "bf00f003-ba2b-4cc8-b6c0-aa56213c0f19",
   "metadata": {},
   "source": [
    "difflab library is used to get the closet match of input movie"
   ]
  },
  {
   "cell_type": "code",
   "execution_count": null,
   "id": "2dc08854-74a6-46d7-887d-507a88ad1960",
   "metadata": {},
   "outputs": [],
   "source": [
    "from sklearn.feature_extraction.text import TfidfVectorizer"
   ]
  },
  {
   "cell_type": "markdown",
   "id": "dfefb663-58c2-4927-a4aa-e41115ca0b0a",
   "metadata": {},
   "source": [
    "to covert textual data to numerical data"
   ]
  },
  {
   "cell_type": "code",
   "execution_count": null,
   "id": "fd86fcc0-5da9-4192-baa6-86181ff10c4d",
   "metadata": {},
   "outputs": [],
   "source": [
    "from sklearn.metrics.pairwise import cosine_similarity"
   ]
  },
  {
   "cell_type": "markdown",
   "id": "2bd111dd-6341-4e23-8b73-4f99e1574248",
   "metadata": {},
   "source": [
    "cosine similarity helps in giving a similarity score for the feature values"
   ]
  },
  {
   "cell_type": "markdown",
   "id": "1054d339-3280-4386-85a8-f6de6014c4d2",
   "metadata": {},
   "source": [
    "### 2. Importing the dataset and Data preprocessing"
   ]
  },
  {
   "cell_type": "code",
   "execution_count": null,
   "id": "1da3154c-e8bd-47b6-be70-2de0f0b357dc",
   "metadata": {},
   "outputs": [],
   "source": [
    "df = pd.read_csv(r'C:\\Users\\Shiv\\Documents\\Training arc\\AI&ML\\MACHINE LEARNING\\DATASETS\\movies.csv')"
   ]
  },
  {
   "cell_type": "code",
   "execution_count": null,
   "id": "ef42ff67-90ed-46e3-b421-791ad8e5368b",
   "metadata": {
    "scrolled": true
   },
   "outputs": [],
   "source": [
    "df.head(2)"
   ]
  },
  {
   "cell_type": "code",
   "execution_count": null,
   "id": "ab5a9e2f-c978-4cd8-a676-6c12e96edec0",
   "metadata": {},
   "outputs": [],
   "source": [
    "df.shape"
   ]
  },
  {
   "cell_type": "code",
   "execution_count": null,
   "id": "860b9a43-d0f9-49fb-a8c3-a8a298fb6237",
   "metadata": {
    "scrolled": true
   },
   "outputs": [],
   "source": [
    "df.info()"
   ]
  },
  {
   "cell_type": "code",
   "execution_count": null,
   "id": "6a01e91f-11c3-4858-889f-bdd831a6fbb1",
   "metadata": {
    "scrolled": true
   },
   "outputs": [],
   "source": [
    "df.describe()"
   ]
  },
  {
   "cell_type": "code",
   "execution_count": null,
   "id": "5f931dd4-6e44-4955-a6d8-d699eae6cdcb",
   "metadata": {
    "scrolled": true
   },
   "outputs": [],
   "source": [
    "df.isnull().sum()"
   ]
  },
  {
   "cell_type": "code",
   "execution_count": null,
   "id": "a71a519e-2999-4942-b679-4d76d82b016e",
   "metadata": {
    "scrolled": true
   },
   "outputs": [],
   "source": [
    "df.columns"
   ]
  },
  {
   "cell_type": "code",
   "execution_count": null,
   "id": "c4a774d2-4d5f-4c32-adfd-73ccf932fb82",
   "metadata": {
    "scrolled": true
   },
   "outputs": [],
   "source": [
    "for col in df.columns : \n",
    "    print(col)"
   ]
  },
  {
   "cell_type": "markdown",
   "id": "86c06d51-a3f8-4786-8296-2bcc15df01de",
   "metadata": {},
   "source": [
    "### 3. Feature Selection"
   ]
  },
  {
   "cell_type": "markdown",
   "id": "6f36bfdf-5d43-43e5-bab9-395a5baec37c",
   "metadata": {},
   "source": [
    "Selecting Relevant Features"
   ]
  },
  {
   "cell_type": "code",
   "execution_count": null,
   "id": "9da1917c-aa2f-44b6-b168-ffb1bf3ffce7",
   "metadata": {},
   "outputs": [],
   "source": [
    "selected_features = ['genres', 'keywords', 'title', 'tagline', 'cast', 'director', 'spoken_languages']"
   ]
  },
  {
   "cell_type": "code",
   "execution_count": null,
   "id": "17a1c8c0-6f16-43c1-ac1d-0271f47f40eb",
   "metadata": {},
   "outputs": [],
   "source": [
    "print(selected_features)"
   ]
  },
  {
   "cell_type": "code",
   "execution_count": null,
   "id": "f7899773-cee2-482f-a079-cecfce9f03df",
   "metadata": {},
   "outputs": [],
   "source": [
    "#checking for null values in the selected features\n",
    "\n",
    "for feature in selected_features: \n",
    "    null_values = df[feature].isnull().sum()\n",
    "    print(f'Number of null values in {feature} = {null_values}')"
   ]
  },
  {
   "cell_type": "code",
   "execution_count": null,
   "id": "308931b7-5e92-4de1-9248-39233952b6b6",
   "metadata": {},
   "outputs": [],
   "source": [
    "#replacing null values of the selected features with null string\n",
    "\n",
    "for feature in selected_features : \n",
    "    df[feature] = df[feature].fillna('')"
   ]
  },
  {
   "cell_type": "code",
   "execution_count": null,
   "id": "3e61f427-6b07-440e-b385-d34054feade8",
   "metadata": {},
   "outputs": [],
   "source": [
    "df[selected_features].isnull().sum()"
   ]
  },
  {
   "cell_type": "markdown",
   "id": "bbb1db20-31b2-4bd2-9493-4e423136607e",
   "metadata": {},
   "source": [
    "### 4. Vectorizing - Converting textual values to Numerical Values"
   ]
  },
  {
   "cell_type": "code",
   "execution_count": null,
   "id": "7f60d324-cd8b-401c-aee6-9719d586af74",
   "metadata": {},
   "outputs": [],
   "source": [
    "cf = ''\n",
    "for feature in selected_features: \n",
    "    cf += df[feature]"
   ]
  },
  {
   "cell_type": "code",
   "execution_count": null,
   "id": "c6863739-1773-4b8c-b510-f61695e12613",
   "metadata": {
    "scrolled": true
   },
   "outputs": [],
   "source": [
    "print(cf)"
   ]
  },
  {
   "cell_type": "code",
   "execution_count": null,
   "id": "57f7ad80-b888-4dd5-aab4-a4cc481edaa8",
   "metadata": {},
   "outputs": [],
   "source": [
    "cf.shape"
   ]
  },
  {
   "cell_type": "code",
   "execution_count": null,
   "id": "af54a300-891f-4105-a6ac-ea6a63e3576d",
   "metadata": {},
   "outputs": [],
   "source": [
    "vectorizer = TfidfVectorizer()"
   ]
  },
  {
   "cell_type": "code",
   "execution_count": null,
   "id": "a6958631-fa9b-40d0-a210-c6e4646fc6f7",
   "metadata": {},
   "outputs": [],
   "source": [
    "features_vectors = vectorizer.fit_transform(cf)"
   ]
  },
  {
   "cell_type": "code",
   "execution_count": null,
   "id": "f3c12c82-2eb5-4389-b0bd-22b3460b6f75",
   "metadata": {
    "scrolled": true
   },
   "outputs": [],
   "source": [
    "print(features_vectors)"
   ]
  },
  {
   "cell_type": "code",
   "execution_count": null,
   "id": "37e2a874-2599-43a8-b556-15beda6440f6",
   "metadata": {},
   "outputs": [],
   "source": [
    "features_vectors.shape"
   ]
  },
  {
   "cell_type": "markdown",
   "id": "ca97e2f3-2282-4342-a4cd-0dd75e8bee09",
   "metadata": {
    "collapsed": true,
    "jupyter": {
     "outputs_hidden": true
    }
   },
   "source": [
    "### 5. Cosine Similarity - getting the similarity score"
   ]
  },
  {
   "cell_type": "code",
   "execution_count": null,
   "id": "08f3d830-7fe6-4864-8dc4-3b4e34e31bc4",
   "metadata": {},
   "outputs": [],
   "source": [
    "similarity = cosine_similarity(features_vectors)"
   ]
  },
  {
   "cell_type": "code",
   "execution_count": null,
   "id": "72a79f79-a88f-4f94-b196-012c79a1876a",
   "metadata": {},
   "outputs": [],
   "source": [
    "print(similarity)"
   ]
  },
  {
   "cell_type": "code",
   "execution_count": null,
   "id": "3d4ed21e-4a88-4a97-8506-883103c4f580",
   "metadata": {},
   "outputs": [],
   "source": [
    "similarity.shape"
   ]
  },
  {
   "cell_type": "markdown",
   "id": "5774d0a1-9f8a-454a-90f3-b08d7a64cf7a",
   "metadata": {},
   "source": [
    "##### why is the similarity score shape is 4803 x 4803 : \n",
    "because For each movie a similarity score is calculated with respect to all the others 4803 movies, including itself"
   ]
  },
  {
   "cell_type": "markdown",
   "id": "ec51bd91-ab40-4099-989d-6f7d48b084b5",
   "metadata": {},
   "source": []
  },
  {
   "cell_type": "markdown",
   "id": "b8c7f856-89e1-4a67-a951-f86ab0df5ed3",
   "metadata": {
    "editable": true,
    "slideshow": {
     "slide_type": ""
    },
    "tags": []
   },
   "source": [
    "### 6. Getting the input"
   ]
  },
  {
   "cell_type": "code",
   "execution_count": null,
   "id": "7cdcb2f7-83f2-4702-b520-cbefa28835ec",
   "metadata": {},
   "outputs": [],
   "source": [
    "movie_input = input(\"Enter the movie : \") "
   ]
  },
  {
   "cell_type": "markdown",
   "id": "8fe13a86-d160-4a84-a1a9-da1d568fcf3d",
   "metadata": {},
   "source": [
    "##### Creating a list of all the movies name in the given dataset"
   ]
  },
  {
   "cell_type": "code",
   "execution_count": null,
   "id": "29f34f2a-cffb-4b4b-a4b0-20591868499f",
   "metadata": {},
   "outputs": [],
   "source": [
    "list_of_all_titles = df['title'].tolist()"
   ]
  },
  {
   "cell_type": "code",
   "execution_count": null,
   "id": "e469e719-6a71-4e5a-8ecf-7d780a75baf4",
   "metadata": {
    "scrolled": true
   },
   "outputs": [],
   "source": [
    "print(list_of_all_titles)"
   ]
  },
  {
   "cell_type": "markdown",
   "id": "13e0e3a8-c720-4c6e-9c5a-a01b549b1202",
   "metadata": {},
   "source": [
    "##### finding the closest movie matches  of the movie name given by the user --- using the difflib Library\n",
    "and iss closest match ke respect me hum dataset me se related movies ki ek list banayenge"
   ]
  },
  {
   "cell_type": "code",
   "execution_count": null,
   "id": "fa0f85c1-62d6-4910-85b3-6a44d1aacf02",
   "metadata": {},
   "outputs": [],
   "source": [
    "find_close_match = difflib.get_close_matches(movie_input, list_of_all_titles)"
   ]
  },
  {
   "cell_type": "code",
   "execution_count": null,
   "id": "a343d5f4-3f3a-4132-90b7-1e451c338ebb",
   "metadata": {},
   "outputs": [],
   "source": [
    "print(find_close_match)"
   ]
  },
  {
   "cell_type": "code",
   "execution_count": null,
   "id": "2089db5b-c4c0-44c0-898a-cfc6dbf6db23",
   "metadata": {},
   "outputs": [],
   "source": [
    "# taking the closest match from the matches given by difflib\n",
    "closest_match = find_close_match[0]\n",
    "print(closest_match)"
   ]
  },
  {
   "cell_type": "code",
   "execution_count": null,
   "id": "1f5924a6-6d21-46f0-bb7c-f84a5ba7849c",
   "metadata": {},
   "outputs": [],
   "source": [
    "# taking the index of the closest match\n",
    "\n",
    "index_of_closest_match = df[df.title == closest_match]['index'].values[0]\n",
    "\n",
    "print(index_of_closest_match)"
   ]
  },
  {
   "cell_type": "code",
   "execution_count": null,
   "id": "4d1f8701-fc3f-4d0c-87c8-db41012889ca",
   "metadata": {},
   "outputs": [],
   "source": [
    "print(df.loc[232, 'title'])"
   ]
  },
  {
   "cell_type": "markdown",
   "id": "ddaccbef-6f17-4d4c-985d-b1a92523d548",
   "metadata": {},
   "source": [
    "#### Getting the list of similar movies"
   ]
  },
  {
   "cell_type": "markdown",
   "id": "1a5e1688-a8a5-45d6-babc-21eb840835fb",
   "metadata": {},
   "source": [
    "##### Getting the similarity score"
   ]
  },
  {
   "cell_type": "code",
   "execution_count": null,
   "id": "8a25bab8-ab2e-4285-a9c7-e65b1d0f88d4",
   "metadata": {
    "scrolled": true
   },
   "outputs": [],
   "source": [
    "similarity_score = list(enumerate(similarity[index_of_closest_match]))\n",
    "\n",
    "print(similarity_score)"
   ]
  },
  {
   "cell_type": "markdown",
   "id": "5058aa0d-2062-4977-9699-27633a37556b",
   "metadata": {},
   "source": [
    "##### We've got the similarity score list w.r.t the closest matched movie"
   ]
  },
  {
   "cell_type": "code",
   "execution_count": null,
   "id": "9f72466c-aa92-49f2-b110-6789f665e18b",
   "metadata": {},
   "outputs": [],
   "source": [
    "len(similarity_score)"
   ]
  },
  {
   "cell_type": "markdown",
   "id": "cc2ad23b-e930-4d50-b2df-d549166b3224",
   "metadata": {},
   "source": [
    "------------------------------------------------------"
   ]
  },
  {
   "cell_type": "markdown",
   "id": "8345f6f1-b219-47e1-9577-f27ad58ec4fb",
   "metadata": {},
   "source": [
    "##### Sorting the movies based on their similarity score"
   ]
  },
  {
   "cell_type": "code",
   "execution_count": null,
   "id": "c8961724-3977-43c6-b768-7e4d8277999b",
   "metadata": {
    "scrolled": true
   },
   "outputs": [],
   "source": [
    "sorted_similar_movies = sorted(similarity_score, key = lambda x:x[1], reverse= True)\n",
    "\n",
    "print(sorted_similar_movies)"
   ]
  },
  {
   "cell_type": "markdown",
   "id": "85744ddc-7f05-4664-8288-4831d83fa5d2",
   "metadata": {},
   "source": [
    "##### Print the name of Recommended top 20 Similar movies based on the index "
   ]
  },
  {
   "cell_type": "code",
   "execution_count": null,
   "id": "2ab1c6a2-77c0-4d8b-8c88-779c9118a123",
   "metadata": {},
   "outputs": [],
   "source": [
    "print('Movies Suggested for you : \\n')\n",
    "\n",
    "i=1\n",
    "\n",
    "for movie in sorted_similar_movies: \n",
    "    index = movie[0]\n",
    "    title_from_index = df[df.index == index]['title'].values[0]\n",
    "    if(i<21):\n",
    "        print(i, '.', title_from_index)\n",
    "        i+=1"
   ]
  },
  {
   "cell_type": "markdown",
   "id": "8a067727-ce58-4b7d-b1a2-94d983df20d9",
   "metadata": {},
   "source": [
    "## DONE "
   ]
  },
  {
   "cell_type": "markdown",
   "id": "9356c4a9-79e4-4177-a51d-d1a1b66166eb",
   "metadata": {},
   "source": [
    "-----------------------------------------------------------------------------------------------------------------------------------------------------------------"
   ]
  },
  {
   "cell_type": "markdown",
   "id": "21e4484c-0506-4397-8105-160004460f33",
   "metadata": {},
   "source": [
    "# ....................................................................... FINAL MODEL ..............................................................................."
   ]
  },
  {
   "cell_type": "code",
   "execution_count": null,
   "id": "b5c08279-df9b-42d9-bf3b-1cfd66941cf8",
   "metadata": {},
   "outputs": [],
   "source": [
    "final_movie_input = input('Enter your Movie : ')\n",
    "\n",
    "list_of_all_titles = df['title'].tolist()\n",
    "close_matches_with_input = difflib.get_close_matches(final_movie_input, list_of_all_titles)\n",
    "closest_match = close_matches_with_input[0]\n",
    "index_of_the_closest_match = df[df.title == closest_match]['index'].values[0]\n",
    "similarity_score = list(enumerate(similarity[index_of_the_closest_match]))\n",
    "sorted_similar_movies = sorted(similarity_score, key = lambda x:x[1], reverse= True )\n",
    "\n",
    "print('Movies Suggested for you : \\n')\n",
    "\n",
    "i=1\n",
    "for movie in sorted_similar_movies:\n",
    "    index = movie[0]\n",
    "    title_from_index = df[df.index == index] ['title'].values[0]\n",
    "    if(i<30):\n",
    "        print(f' {i}. {title_from_index} ')\n",
    "        i+= 1"
   ]
  },
  {
   "cell_type": "code",
   "execution_count": null,
   "id": "f14271a0-a56f-4b7c-9f36-8987630d5627",
   "metadata": {},
   "outputs": [],
   "source": [
    "import pickle\n",
    "\n",
    "# Save the model to a file\n",
    "with open('movie_recommender.pkl', 'wb') as f:\n",
    "  pickle.dump(df, f)"
   ]
  },
  {
   "cell_type": "code",
   "execution_count": 47,
   "id": "adf83e2c",
   "metadata": {},
   "outputs": [],
   "source": [
    "movie_recommender = pickle.load(open('movie_recommender.pkl', 'rb'))"
   ]
  },
  {
   "cell_type": "code",
   "execution_count": null,
   "id": "6a5af46b",
   "metadata": {},
   "outputs": [],
   "source": []
  }
 ],
 "metadata": {
  "kernelspec": {
   "display_name": "Python 3 (ipykernel)",
   "language": "python",
   "name": "python3"
  },
  "language_info": {
   "codemirror_mode": {
    "name": "ipython",
    "version": 3
   },
   "file_extension": ".py",
   "mimetype": "text/x-python",
   "name": "python",
   "nbconvert_exporter": "python",
   "pygments_lexer": "ipython3",
   "version": "3.11.9"
  }
 },
 "nbformat": 4,
 "nbformat_minor": 5
}

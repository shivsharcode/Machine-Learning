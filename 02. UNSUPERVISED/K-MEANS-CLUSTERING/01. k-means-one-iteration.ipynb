{
 "cells": [
  {
   "cell_type": "markdown",
   "id": "dae3c8fd-911b-4421-afcb-943c8eab10a3",
   "metadata": {},
   "source": [
    "## Step 1: Create a tiny dataset\n",
    "a 2D dataset of 8 points"
   ]
  },
  {
   "cell_type": "code",
   "execution_count": 1,
   "id": "30afe7dd-0e0a-41e1-b150-0f31d312e114",
   "metadata": {},
   "outputs": [],
   "source": [
    "import numpy as np\n",
    "import matplotlib.pyplot as plt"
   ]
  },
  {
   "cell_type": "code",
   "execution_count": 2,
   "id": "698b0671-6687-48e0-b059-1694cfc04d40",
   "metadata": {},
   "outputs": [
    {
     "name": "stdout",
     "output_type": "stream",
     "text": [
      "(8, 2) 8 rows, 2 columns\n"
     ]
    }
   ],
   "source": [
    "X = np.array(\n",
    "    [\n",
    "        [1, 2],\n",
    "        [1.5, 1.8],\n",
    "        [5, 8],\n",
    "        [8, 8],\n",
    "        [1, 0.6],\n",
    "        [9, 11],\n",
    "        [8, 2],\n",
    "        [10, 2]\n",
    "    ]\n",
    ")\n",
    "\n",
    "print(X.shape, \"8 rows, 2 columns\")"
   ]
  },
  {
   "cell_type": "code",
   "execution_count": 3,
   "id": "0cfc38b5-373b-4d09-9832-2bb0c64ea807",
   "metadata": {},
   "outputs": [
    {
     "data": {
      "image/png": "[encoded data removed]",
      "text/plain": [
       "<Figure size 640x480 with 1 Axes>"
      ]
     },
     "metadata": {},
     "output_type": "display_data"
    }
   ],
   "source": [
    "plt.scatter(X[:, 0], X[:, 1],s =100, c='green')  # plt.scatter( x-axis me array X ke all rows first column values- 0th indices wale points, y-axis me array X ke all rows second column value .i.e 1st index wale points, 's' refers to size of each point, 'c' refers to color)\n",
    "plt.title(\"Tiny Dataset\")\n",
    "plt.show()"
   ]
  },
  {
   "cell_type": "markdown",
   "id": "604a5a27-4cf5-4cc9-bf7c-a55ef0f8ffa1",
   "metadata": {},
   "source": [
    "## Step 2: Initialize cluster centroids\n",
    "Let's choose k = 2 \\\n",
    "we'll randomly pick 2 points from the dataset to start as centroids"
   ]
  },
  {
   "cell_type": "code",
   "execution_count": 4,
   "id": "73274d5a-8dc9-4a27-b78a-33eae4a5f852",
   "metadata": {},
   "outputs": [
    {
     "name": "stdout",
     "output_type": "stream",
     "text": [
      "Initial Centroids: \n",
      "[[ 1.5  1.8]\n",
      " [ 9.  11. ]]\n"
     ]
    }
   ],
   "source": [
    "# choose k \n",
    "k = 2\n",
    "\n",
    "# randomly pick 2 points as initial centroids\n",
    "np.random.seed(42)  # for reproducibility\n",
    "centroids = X[np.random.choice(X.shape[0], k, replace= False)]\n",
    "\n",
    "\"\"\"\n",
    "here, \n",
    "    X.shape[0] : returns no. of rows in X (=8) == the total number of datapoints\n",
    "    k = 2, select two unique indices \n",
    "    replace = False : ensures no duplicates - each centroid is different data point\n",
    "\n",
    "    so np.random.choice picks two values between [0-7], as indices \n",
    "    and X[index1, index2] will return an array of those 2 data point as shown in the \n",
    "    below code box\n",
    "\"\"\"\n",
    "\n",
    "print(\"Initial Centroids: \")\n",
    "print(centroids)"
   ]
  },
  {
   "cell_type": "code",
   "execution_count": 5,
   "id": "87d068fc-d75f-48c7-acb3-7ae3e315896d",
   "metadata": {},
   "outputs": [
    {
     "name": "stdout",
     "output_type": "stream",
     "text": [
      "Indices =  [1 5]\n",
      "Data points: \n",
      "[[ 1.5  1.8]\n",
      " [ 9.  11. ]]\n"
     ]
    }
   ],
   "source": [
    "# this is for understanding how the above centroids = X[] line is processed\n",
    "np.random.seed(42)\n",
    "a = np.random.choice(8, 2, replace=False)\n",
    "print(\"Indices = \", a)\n",
    "\n",
    "cen_samp = X[a]\n",
    "print(\"Data points: \")\n",
    "print(cen_samp)"
   ]
  },
  {
   "cell_type": "code",
   "execution_count": 44,
   "id": "92495d8b-c086-4ef2-a0e6-14da7272e85b",
   "metadata": {},
   "outputs": [
    {
     "data": {
      "image/png": "[encoded data removed]",
      "text/plain": [
       "<Figure size 640x480 with 1 Axes>"
      ]
     },
     "metadata": {},
     "output_type": "display_data"
    }
   ],
   "source": [
    "# let's visualize the centroids\n",
    "plt.scatter(X[:, 0], X[:, 1], c='green')\n",
    "plt.scatter(centroids[:, 0], centroids[:,1], marker='x', s=200, c='red')\n",
    "plt.title(\"Initial centroids\")\n",
    "plt.show()"
   ]
  },
  {
   "cell_type": "code",
   "execution_count": 41,
   "id": "6161808b-6f81-4003-9f54-be6d8aa94c67",
   "metadata": {},
   "outputs": [
    {
     "name": "stdout",
     "output_type": "stream",
     "text": [
      "[[ 1.   2. ]\n",
      " [ 1.5  1.8]\n",
      " [ 5.   8. ]\n",
      " [ 8.   8. ]\n",
      " [ 1.   0.6]\n",
      " [ 9.  11. ]\n",
      " [ 8.   2. ]\n",
      " [10.   2. ]]\n",
      "\n",
      "[ 1.   1.5  5.   8.   1.   9.   8.  10. ]\n",
      "\n",
      "[ 2.   1.8  8.   8.   0.6 11.   2.   2. ]\n",
      "\n"
     ]
    }
   ],
   "source": [
    "print(X[:], end='\\n\\n')\n",
    "print(X[:, 0], end='\\n\\n')\n",
    "print(X[:, 1], end='\\n\\n')"
   ]
  },
  {
   "cell_type": "code",
   "execution_count": 42,
   "id": "733f65e0-c7fe-4f47-824f-48590bdc4c3b",
   "metadata": {},
   "outputs": [
    {
     "name": "stdout",
     "output_type": "stream",
     "text": [
      "[[ 1.5  1.8]\n",
      " [ 9.  11. ]]\n",
      "\n",
      "[1.5 9. ]\n",
      "\n",
      "[ 1.8 11. ]\n",
      "\n"
     ]
    }
   ],
   "source": [
    "print(centroids[:], end='\\n\\n')\n",
    "print(centroids[:, 0], end='\\n\\n')\n",
    "print(centroids[:, 1], end='\\n\\n')"
   ]
  },
  {
   "cell_type": "markdown",
   "id": "a15db558-02da-4eb5-ab7d-d8aca733be99",
   "metadata": {},
   "source": [
    "## Step 4: Calculating distances of points from centroids\n",
    "check for each point is it closer to C1 or C2"
   ]
  },
  {
   "cell_type": "code",
   "execution_count": 45,
   "id": "4c57da5f-6f13-47a5-a369-421ed8a2d2bc",
   "metadata": {},
   "outputs": [],
   "source": [
    "from scipy.spatial.distance import cdist"
   ]
  },
  {
   "cell_type": "code",
   "execution_count": 46,
   "id": "1b176d0c-3d86-48fe-8729-8b43b4c13c1d",
   "metadata": {},
   "outputs": [
    {
     "name": "stdout",
     "output_type": "stream",
     "text": [
      "[[ 0.53851648 12.04159458]\n",
      " [ 0.         11.86970935]\n",
      " [ 7.119691    5.        ]\n",
      " [ 8.98276127  3.16227766]\n",
      " [ 1.3        13.12097557]\n",
      " [11.86970935  0.        ]\n",
      " [ 6.5030762   9.05538514]\n",
      " [ 8.50235262  9.05538514]]\n"
     ]
    }
   ],
   "source": [
    "distances = cdist(X, centroids)  # compute euclidean distance to both centroids\n",
    "print(distances)"
   ]
  },
  {
   "cell_type": "code",
   "execution_count": 54,
   "id": "ca23d8dc-a7ae-48df-b98b-d3914a9eb27b",
   "metadata": {},
   "outputs": [
    {
     "data": {
      "text/html": [
       "<div>\n",
       "<style scoped>\n",
       "    .dataframe tbody tr th:only-of-type {\n",
       "        vertical-align: middle;\n",
       "    }\n",
       "\n",
       "    .dataframe tbody tr th {\n",
       "        vertical-align: top;\n",
       "    }\n",
       "\n",
       "    .dataframe thead th {\n",
       "        text-align: right;\n",
       "    }\n",
       "</style>\n",
       "<table border=\"1\" class=\"dataframe\">\n",
       "  <thead>\n",
       "    <tr style=\"text-align: right;\">\n",
       "      <th></th>\n",
       "      <th>d from C1</th>\n",
       "      <th>d from C2</th>\n",
       "    </tr>\n",
       "  </thead>\n",
       "  <tbody>\n",
       "    <tr>\n",
       "      <th>A</th>\n",
       "      <td>0.538516</td>\n",
       "      <td>12.041595</td>\n",
       "    </tr>\n",
       "    <tr>\n",
       "      <th>B</th>\n",
       "      <td>0.000000</td>\n",
       "      <td>11.869709</td>\n",
       "    </tr>\n",
       "    <tr>\n",
       "      <th>C</th>\n",
       "      <td>7.119691</td>\n",
       "      <td>5.000000</td>\n",
       "    </tr>\n",
       "    <tr>\n",
       "      <th>D</th>\n",
       "      <td>8.982761</td>\n",
       "      <td>3.162278</td>\n",
       "    </tr>\n",
       "    <tr>\n",
       "      <th>E</th>\n",
       "      <td>1.300000</td>\n",
       "      <td>13.120976</td>\n",
       "    </tr>\n",
       "    <tr>\n",
       "      <th>F</th>\n",
       "      <td>11.869709</td>\n",
       "      <td>0.000000</td>\n",
       "    </tr>\n",
       "    <tr>\n",
       "      <th>G</th>\n",
       "      <td>6.503076</td>\n",
       "      <td>9.055385</td>\n",
       "    </tr>\n",
       "    <tr>\n",
       "      <th>H</th>\n",
       "      <td>8.502353</td>\n",
       "      <td>9.055385</td>\n",
       "    </tr>\n",
       "  </tbody>\n",
       "</table>\n",
       "</div>"
      ],
      "text/plain": [
       "   d from C1  d from C2\n",
       "A   0.538516  12.041595\n",
       "B   0.000000  11.869709\n",
       "C   7.119691   5.000000\n",
       "D   8.982761   3.162278\n",
       "E   1.300000  13.120976\n",
       "F  11.869709   0.000000\n",
       "G   6.503076   9.055385\n",
       "H   8.502353   9.055385"
      ]
     },
     "execution_count": 54,
     "metadata": {},
     "output_type": "execute_result"
    }
   ],
   "source": [
    "import pandas as pd\n",
    "\n",
    "indices_datapoints = [chr(i) for i in range(ord('A'), ord('H')+1)]\n",
    "\n",
    "dist_df = pd.DataFrame(distances, columns=[\"d from C1\", \"d from C2\"], index=indices_datapoints)\n",
    "\n",
    "dist_df.head(8)"
   ]
  },
  {
   "cell_type": "markdown",
   "id": "01ff17aa-736e-40d7-b804-a3a91ba666a9",
   "metadata": {},
   "source": [
    "## Step 5: Assigning Cluster to datapoints\n",
    "datapoints will be assigned to the cluster with nearer centroid"
   ]
  },
  {
   "cell_type": "code",
   "execution_count": 58,
   "id": "cd69fa50-b738-442f-9988-75d5bdfa15c9",
   "metadata": {},
   "outputs": [
    {
     "name": "stdout",
     "output_type": "stream",
     "text": [
      "[0 0 1 1 0 1 0 0]\n"
     ]
    }
   ],
   "source": [
    "labels = np.argmin(distances, axis=1)\n",
    "# this line assigns each data point to nearest cetnroid based on the distnce matrix\n",
    "# 0 for the first cluster\n",
    "# 1 for the second cluster\n",
    "\n",
    "# np.argmin(...) : for each row it finds the index of the smallest value -- the closest centroid\n",
    "# axis = 1, means it operates across columns i.e (operates per row, i.e per datapoint)\n",
    "\n",
    "# thus labels = 1D array where each element is the index of the nearest centroid for this datapoint\n",
    "\n",
    "print(labels)"
   ]
  },
  {
   "cell_type": "code",
   "execution_count": 62,
   "id": "34dc47e8-7da8-4897-b3cb-ddd844c486f9",
   "metadata": {},
   "outputs": [
    {
     "data": {
      "image/png": "[encoded data removed]",
      "text/plain": [
       "<Figure size 640x480 with 1 Axes>"
      ]
     },
     "metadata": {},
     "output_type": "display_data"
    }
   ],
   "source": [
    "# visualize\n",
    "for i in range(2):\n",
    "    plt.scatter(X[labels == i, 0], X[labels==i, 1], label = f\"Cluster{i}\")\n",
    "    # labels == i, creates a boolean mask that selects all rows in X assigned to cluster i\n",
    "    # X[labels == i, 0] selects the x coordinates of points in cluster i\n",
    "    # for more info : link : https://www.reddit.com/user/Shiv_shar/comments/1mxymwp/for_i_in_range2_pltscatterxlabelsi_0_xlabelsi_1/?utm_source=share&utm_medium=web3x&utm_name=web3xcss&utm_term=1&utm_content=share_button\n",
    "\n",
    "plt.scatter(centroids[:, 0], centroids[:, 1], marker='x', s=200, c='red')\n",
    "plt.legend()\n",
    "plt.title(\"Iteration 1 : Assignment of cluster\")\n",
    "plt.show()"
   ]
  },
  {
   "cell_type": "markdown",
   "id": "d1438789-d1e8-40b0-b1f7-1f80dbfe0bf8",
   "metadata": {},
   "source": [
    "## Step 6: Update centroids\n",
    "now take the mean of the points in each cluster to get new centroids"
   ]
  },
  {
   "cell_type": "code",
   "execution_count": 72,
   "id": "7f90f7a9-51dd-4c41-abd6-6a9938be3dc3",
   "metadata": {},
   "outputs": [
    {
     "name": "stdout",
     "output_type": "stream",
     "text": [
      "Cluster - 0\n",
      "[[ 1.   2. ]\n",
      " [ 1.5  1.8]\n",
      " [ 1.   0.6]\n",
      " [ 8.   2. ]\n",
      " [10.   2. ]]\n",
      "Mean = [4.3  1.68]\n",
      "\n",
      "Cluster - 1\n",
      "[[ 5.  8.]\n",
      " [ 8.  8.]\n",
      " [ 9. 11.]]\n",
      "Mean = [7.33333333 9.        ]\n",
      "\n",
      "[[4.3        1.68      ]\n",
      " [7.33333333 9.        ]]\n"
     ]
    }
   ],
   "source": [
    "new_centroids = []\n",
    "\n",
    "for i in range(2):\n",
    "    print(f\"Cluster - {i}\")\n",
    "    arr = X[labels == i]\n",
    "    print(arr)\n",
    "\n",
    "    clust_mean = arr.mean(axis = 0)\n",
    "    print(f\"Mean = {clust_mean}\")\n",
    "    \n",
    "    new_centroids.append(clust_mean)\n",
    "    print()\n",
    "\n",
    "new_centroids = np.array(new_centroids)\n",
    "print(new_centroids)\n",
    "\n",
    "\n",
    "# or just new_centroids = np.array( [ X[labels == i].mean(axis = 0) for i in range(2) ] )"
   ]
  },
  {
   "cell_type": "code",
   "execution_count": 73,
   "id": "976672a7-4c40-4698-bdcc-e12b2f294d61",
   "metadata": {},
   "outputs": [
    {
     "data": {
      "image/png": "[encoded data removed]",
      "text/plain": [
       "<Figure size 640x480 with 1 Axes>"
      ]
     },
     "metadata": {},
     "output_type": "display_data"
    }
   ],
   "source": [
    "# visualize \n",
    "\n",
    "for i in range(2):\n",
    "    plt.scatter( X[labels == i, 0], X[labels == i, 1], label = f\"Cluster {i}\")\n",
    "\n",
    "# plot new centroids as cross\n",
    "plt.scatter(new_centroids[:, 0], new_centroids[:, 1], marker='x', s=200, c='red')\n",
    "plt.legend()\n",
    "plt.title(\"Updated centroids\")\n",
    "plt.show()"
   ]
  },
  {
   "cell_type": "markdown",
   "id": "20afff6f-b757-4fb1-bd47-ea3fe7b880f6",
   "metadata": {},
   "source": [
    "## that's one full iteration of K means done manually\n",
    "1. pick k\n",
    "2. select centroids randomly\n",
    "3. calculate Euclidean dist of datapoints from centroids\n",
    "4. Assign cluster (nearest centroid)\n",
    "5. Update centroids\n",
    "6. Repeat till it reaches convergence"
   ]
  },
  {
   "cell_type": "code",
   "execution_count": null,
   "id": "2a8cde7c-6500-4193-882e-d2a911d34ffc",
   "metadata": {},
   "outputs": [],
   "source": []
  }
 ],
 "metadata": {
  "kernelspec": {
   "display_name": "Python 3 (ipykernel)",
   "language": "python",
   "name": "python3"
  },
  "language_info": {
   "codemirror_mode": {
    "name": "ipython",
    "version": 3
   },
   "file_extension": ".py",
   "mimetype": "text/x-python",
   "name": "python",
   "nbconvert_exporter": "python",
   "pygments_lexer": "ipython3",
   "version": "3.11.9"
  }
 },
 "nbformat": 4,
 "nbformat_minor": 5
}

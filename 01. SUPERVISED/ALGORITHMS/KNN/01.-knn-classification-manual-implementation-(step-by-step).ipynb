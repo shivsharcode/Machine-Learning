{
 "cells": [
  {
   "cell_type": "markdown",
   "id": "6df0d9b3-1b48-451c-81bb-290b94888db7",
   "metadata": {},
   "source": [
    "## Step 1: tiny dataset"
   ]
  },
  {
   "cell_type": "code",
   "execution_count": 19,
   "id": "663b63fb-cb05-4854-8285-fb881641653b",
   "metadata": {},
   "outputs": [],
   "source": [
    "import numpy as np"
   ]
  },
  {
   "cell_type": "code",
   "execution_count": 20,
   "id": "8625fbfe-f109-4f39-bbcd-6b05681990d6",
   "metadata": {},
   "outputs": [
    {
     "name": "stdout",
     "output_type": "stream",
     "text": [
      "(5, 2) \n",
      "\n",
      "5 rows (5 datapoints)\n",
      "2 cols (2 features)\n"
     ]
    }
   ],
   "source": [
    "# tiny dataset\n",
    "\n",
    "X = np.array(\n",
    "    [\n",
    "        [1, 2],\n",
    "        [2, 3],\n",
    "        [3, 1],\n",
    "        [6, 5],\n",
    "        [7, 7]\n",
    "    ]\n",
    ")\n",
    "\n",
    "print(X.shape, '\\n')\n",
    "print(f\"{X.shape[0]} rows ({X.shape[0]} datapoints)\")\n",
    "print(f\"{X.shape[1]} cols ({X.shape[1]} features)\")"
   ]
  },
  {
   "cell_type": "code",
   "execution_count": 21,
   "id": "815ac510-2848-4392-bafa-48b609da4c1b",
   "metadata": {},
   "outputs": [],
   "source": [
    "# target (Classes)\n",
    "\n",
    "\"\"\"\n",
    "2 Classes : Red, Blue\n",
    "\"\"\"\n",
    "\n",
    "y = ['red', 'red', 'blue', 'blue', 'red']"
   ]
  },
  {
   "cell_type": "code",
   "execution_count": 22,
   "id": "d26b9507-4719-4096-8706-fd95c39ca77d",
   "metadata": {},
   "outputs": [
    {
     "data": {
      "text/html": [
       "<div>\n",
       "<style scoped>\n",
       "    .dataframe tbody tr th:only-of-type {\n",
       "        vertical-align: middle;\n",
       "    }\n",
       "\n",
       "    .dataframe tbody tr th {\n",
       "        vertical-align: top;\n",
       "    }\n",
       "\n",
       "    .dataframe thead th {\n",
       "        text-align: right;\n",
       "    }\n",
       "</style>\n",
       "<table border=\"1\" class=\"dataframe\">\n",
       "  <thead>\n",
       "    <tr style=\"text-align: right;\">\n",
       "      <th></th>\n",
       "      <th>Feature1</th>\n",
       "      <th>Feature2</th>\n",
       "      <th>Class</th>\n",
       "    </tr>\n",
       "  </thead>\n",
       "  <tbody>\n",
       "    <tr>\n",
       "      <th>0</th>\n",
       "      <td>1</td>\n",
       "      <td>2</td>\n",
       "      <td>red</td>\n",
       "    </tr>\n",
       "    <tr>\n",
       "      <th>1</th>\n",
       "      <td>2</td>\n",
       "      <td>3</td>\n",
       "      <td>red</td>\n",
       "    </tr>\n",
       "    <tr>\n",
       "      <th>2</th>\n",
       "      <td>3</td>\n",
       "      <td>1</td>\n",
       "      <td>blue</td>\n",
       "    </tr>\n",
       "    <tr>\n",
       "      <th>3</th>\n",
       "      <td>6</td>\n",
       "      <td>5</td>\n",
       "      <td>blue</td>\n",
       "    </tr>\n",
       "    <tr>\n",
       "      <th>4</th>\n",
       "      <td>7</td>\n",
       "      <td>7</td>\n",
       "      <td>red</td>\n",
       "    </tr>\n",
       "  </tbody>\n",
       "</table>\n",
       "</div>"
      ],
      "text/plain": [
       "   Feature1  Feature2 Class\n",
       "0         1         2   red\n",
       "1         2         3   red\n",
       "2         3         1  blue\n",
       "3         6         5  blue\n",
       "4         7         7   red"
      ]
     },
     "execution_count": 22,
     "metadata": {},
     "output_type": "execute_result"
    }
   ],
   "source": [
    "# our data as dataframe\n",
    "import pandas as pd\n",
    "df = pd.DataFrame(X, columns = [f\"Feature{x+1}\" for x in range(X.shape[1]) ])\n",
    "df['Class'] = y\n",
    "df.head()"
   ]
  },
  {
   "cell_type": "markdown",
   "id": "b89b67ea-695b-4b33-89ec-6a89ca78dc4f",
   "metadata": {},
   "source": [
    "## Step 2: testing point P\n"
   ]
  },
  {
   "cell_type": "code",
   "execution_count": 34,
   "id": "3339ad55-68d3-4d77-82ae-d4d0f4dcc962",
   "metadata": {},
   "outputs": [],
   "source": [
    "# testing point P\n",
    "P = [4, 3]"
   ]
  },
  {
   "cell_type": "markdown",
   "id": "ca38efc1-480d-42bf-bac5-8f2c6e614dd6",
   "metadata": {},
   "source": [
    "Our Goal is to classify the class of point 'P'"
   ]
  },
  {
   "cell_type": "markdown",
   "id": "f53a11dd-34aa-4537-bfbf-46567e80adf9",
   "metadata": {},
   "source": [
    "## Step 3: Set k (hyperparameter)"
   ]
  },
  {
   "cell_type": "code",
   "execution_count": 24,
   "id": "db60f378-2623-4596-8cb7-516ed7ca9c65",
   "metadata": {},
   "outputs": [],
   "source": [
    "k = 3"
   ]
  },
  {
   "cell_type": "markdown",
   "id": "4da7dfdd-b6c4-46f5-ae55-3eb0ea9beaea",
   "metadata": {},
   "source": [
    "## Step 4: Calculate Euclidean distance b/w point 'P' and other datapoints"
   ]
  },
  {
   "cell_type": "code",
   "execution_count": 25,
   "id": "23d522a2-7594-4ddb-813e-b27b190a5b16",
   "metadata": {},
   "outputs": [],
   "source": [
    "import math"
   ]
  },
  {
   "cell_type": "code",
   "execution_count": 26,
   "id": "d9420f09-1e3b-4510-990e-0654603f0161",
   "metadata": {},
   "outputs": [
    {
     "name": "stdout",
     "output_type": "stream",
     "text": [
      "[(3.1622776601683795, 'red'), (2.0, 'red'), (2.23606797749979, 'blue'), (2.8284271247461903, 'blue'), (5.0, 'red')]\n"
     ]
    }
   ],
   "source": [
    "distance_arr = []    # List of tuples : (distance of datapoint from 'P', class of datapoint)\n",
    "\n",
    "for i in range(X.shape[0]):\n",
    "    datapoint = X[i]\n",
    "\n",
    "    squared_distance = 0\n",
    "    \n",
    "    for j in range(len(datapoint)):\n",
    "        datapoint_coordinate = datapoint[j]\n",
    "        p_coordinate = P[j]\n",
    "        squared_distance += ( (p_coordinate - datapoint_coordinate)**2 )\n",
    "    \n",
    "    distance = math.sqrt(squared_distance)\n",
    "    distance_arr.append( (distance, y[i] ) )\n",
    "\n",
    "print(distance_arr)"
   ]
  },
  {
   "cell_type": "markdown",
   "id": "c50573e4-0fdc-4788-ac2c-104d85dee5f0",
   "metadata": {},
   "source": [
    "## Step 5: Sort the distances and select 'k' nearest neighbors of point 'P'"
   ]
  },
  {
   "cell_type": "code",
   "execution_count": 31,
   "id": "9a4cbac2-d080-49d9-b5ec-abf41842bcdf",
   "metadata": {},
   "outputs": [
    {
     "name": "stdout",
     "output_type": "stream",
     "text": [
      "[(2.0, 'red'), (2.23606797749979, 'blue'), (2.8284271247461903, 'blue'), (3.1622776601683795, 'red'), (5.0, 'red')]\n"
     ]
    }
   ],
   "source": [
    "# sort the distance array on the basis of distances\n",
    "\n",
    "distance_arr = sorted(distance_arr, key = lambda x: x[0])\n",
    "print(distance_arr)"
   ]
  },
  {
   "cell_type": "code",
   "execution_count": 32,
   "id": "4bfa88cc-e36b-40d1-b8f7-3c99fced563d",
   "metadata": {},
   "outputs": [
    {
     "name": "stdout",
     "output_type": "stream",
     "text": [
      "[(2.0, 'red'), (2.23606797749979, 'blue'), (2.8284271247461903, 'blue')]\n"
     ]
    }
   ],
   "source": [
    "# select the k nearest neighbors of 'P'\n",
    "\n",
    "k_nearest_neighbors = distance_arr[:k]\n",
    "print(k_nearest_neighbors)"
   ]
  },
  {
   "cell_type": "markdown",
   "id": "f016aed4-5a8a-4dfa-901a-34b80585e314",
   "metadata": {},
   "source": [
    "## Step 6: Assign max class to 'P'"
   ]
  },
  {
   "cell_type": "code",
   "execution_count": 29,
   "id": "e8cdbf5e-4449-4f56-81ce-10f6e3cc610b",
   "metadata": {},
   "outputs": [
    {
     "name": "stdout",
     "output_type": "stream",
     "text": [
      "{'red': 1, 'blue': 2}\n",
      "[('red', 1), ('blue', 2)]\n"
     ]
    }
   ],
   "source": [
    "# assign the class which has max. frequency in top 'k' to the 'P' point\n",
    "\n",
    "# 01 : finding max class\n",
    "\n",
    "mydict = dict()\n",
    "\n",
    "for i in k_nearest_neighbors:\n",
    "    point_class = i[1]\n",
    "    if point_class in mydict:\n",
    "        mydict[point_class] += 1\n",
    "    else:\n",
    "        mydict[point_class] = 1\n",
    "\n",
    "print(mydict)\n",
    "\n",
    "sorted_class_freq = sorted( mydict.items(), key= lambda x : x[1] )  # ascending order of class frequency\n",
    "print(sorted_class_freq)\n",
    "\n",
    "max_class = sorted_class_freq[-1][0]  # class with max freq"
   ]
  },
  {
   "cell_type": "code",
   "execution_count": 33,
   "id": "937f53e1-56bc-4a8d-a3b9-c3bad6e0c7f4",
   "metadata": {},
   "outputs": [
    {
     "name": "stdout",
     "output_type": "stream",
     "text": [
      "Class of datapoint P = blue\n"
     ]
    }
   ],
   "source": [
    "# 02. Assigning the class\n",
    "\n",
    "p_class = max_class\n",
    "print(f\"Class of datapoint P = {p_class}\")"
   ]
  },
  {
   "cell_type": "markdown",
   "id": "0671d2e4-4623-4e42-91af-4f23e5440b2d",
   "metadata": {},
   "source": [
    "## Visualize the scatter plot"
   ]
  },
  {
   "cell_type": "code",
   "execution_count": 35,
   "id": "a88928c0-da3c-43c7-9af5-0e9716ca521d",
   "metadata": {},
   "outputs": [],
   "source": [
    "import matplotlib.pyplot as plt"
   ]
  },
  {
   "cell_type": "code",
   "execution_count": 62,
   "id": "63acf2f2-0982-4c29-bf4a-b87633de5f23",
   "metadata": {},
   "outputs": [
    {
     "data": {
      "image/png": "[encoded data removed]",
      "text/plain": [
       "<Figure size 1000x400 with 1 Axes>"
      ]
     },
     "metadata": {},
     "output_type": "display_data"
    }
   ],
   "source": [
    "plt.figure( figsize = (10, 4) )\n",
    "\n",
    "for i in range(X.shape[0]):\n",
    "    plt.scatter(X[i][0], X[i][1], s=100, c=f\"{y[i]}\" )\n",
    "plt.scatter(P[0], P[1], s=200, c=f\"{p_class}\", marker = 'x')\n",
    "\n",
    "plt.title(\"Scatter Plot for the first two features of dataset\")\n",
    "plt.xlabel(\"Feature 1\")\n",
    "plt.ylabel(\"Feature 2\")\n",
    "plt.show()"
   ]
  },
  {
   "cell_type": "code",
   "execution_count": null,
   "id": "524d06ef-cefa-46ac-9bda-c51cf6fa05c7",
   "metadata": {},
   "outputs": [],
   "source": []
  }
 ],
 "metadata": {
  "kernelspec": {
   "display_name": "Python 3 (ipykernel)",
   "language": "python",
   "name": "python3"
  },
  "language_info": {
   "codemirror_mode": {
    "name": "ipython",
    "version": 3
   },
   "file_extension": ".py",
   "mimetype": "text/x-python",
   "name": "python",
   "nbconvert_exporter": "python",
   "pygments_lexer": "ipython3",
   "version": "3.11.9"
  }
 },
 "nbformat": 4,
 "nbformat_minor": 5
}

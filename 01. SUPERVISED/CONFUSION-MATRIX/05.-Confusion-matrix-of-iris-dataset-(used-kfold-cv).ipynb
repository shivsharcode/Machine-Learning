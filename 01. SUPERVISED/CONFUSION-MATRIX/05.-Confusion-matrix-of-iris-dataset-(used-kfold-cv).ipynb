{
 "cells": [
  {
   "cell_type": "markdown",
   "id": "3e0f4380-4681-41cd-914d-4fdf0dd27f4b",
   "metadata": {},
   "source": [
    "**PipeLine**  \\\n",
    "load -> model initialisation -> Cross validation -> cross-val-predict -> Confusion Matrix"
   ]
  },
  {
   "cell_type": "markdown",
   "id": "4b24fa67-80b0-4510-a814-79841ffaa02c",
   "metadata": {},
   "source": [
    "## Step 0: Setup"
   ]
  },
  {
   "cell_type": "code",
   "execution_count": 1,
   "id": "7e921db2-987a-4b4d-b5ba-633cae54dff3",
   "metadata": {},
   "outputs": [],
   "source": [
    "from sklearn.datasets import load_iris\n",
    "from sklearn.linear_model import LogisticRegression\n",
    "from sklearn.model_selection import KFold, cross_val_predict\n",
    "from sklearn.metrics import confusion_matrix, classification_report\n",
    "\n",
    "import matplotlib.pyplot as plt\n",
    "import seaborn as sns"
   ]
  },
  {
   "cell_type": "markdown",
   "id": "99def1c5-28c9-4ab5-9178-f62e1397163a",
   "metadata": {},
   "source": [
    "## Step 1: Load dataset"
   ]
  },
  {
   "cell_type": "code",
   "execution_count": 2,
   "id": "23c6cbab-1bf2-442e-9650-70b9206b7407",
   "metadata": {},
   "outputs": [],
   "source": [
    "iris = load_iris()"
   ]
  },
  {
   "cell_type": "code",
   "execution_count": 3,
   "id": "aac9f16c-7d8d-4a1f-be79-f68fa96d5e4e",
   "metadata": {},
   "outputs": [
    {
     "name": "stdout",
     "output_type": "stream",
     "text": [
      "data\n",
      "target\n",
      "frame\n",
      "target_names\n",
      "DESCR\n",
      "feature_names\n",
      "filename\n",
      "data_module\n"
     ]
    }
   ],
   "source": [
    "for key in iris:\n",
    "    print(key)"
   ]
  },
  {
   "cell_type": "code",
   "execution_count": 4,
   "id": "139ab69d-fbe7-4149-968b-d8fbf76bfb04",
   "metadata": {},
   "outputs": [],
   "source": [
    "X = iris.data\n",
    "y = iris.target"
   ]
  },
  {
   "cell_type": "code",
   "execution_count": 6,
   "id": "7cb5838b-057e-4784-b0d5-791a90914a58",
   "metadata": {},
   "outputs": [
    {
     "data": {
      "text/html": [
       "<div>\n",
       "<style scoped>\n",
       "    .dataframe tbody tr th:only-of-type {\n",
       "        vertical-align: middle;\n",
       "    }\n",
       "\n",
       "    .dataframe tbody tr th {\n",
       "        vertical-align: top;\n",
       "    }\n",
       "\n",
       "    .dataframe thead th {\n",
       "        text-align: right;\n",
       "    }\n",
       "</style>\n",
       "<table border=\"1\" class=\"dataframe\">\n",
       "  <thead>\n",
       "    <tr style=\"text-align: right;\">\n",
       "      <th></th>\n",
       "      <th>sepal length (cm)</th>\n",
       "      <th>sepal width (cm)</th>\n",
       "      <th>petal length (cm)</th>\n",
       "      <th>petal width (cm)</th>\n",
       "      <th>target</th>\n",
       "    </tr>\n",
       "  </thead>\n",
       "  <tbody>\n",
       "    <tr>\n",
       "      <th>0</th>\n",
       "      <td>5.1</td>\n",
       "      <td>3.5</td>\n",
       "      <td>1.4</td>\n",
       "      <td>0.2</td>\n",
       "      <td>0</td>\n",
       "    </tr>\n",
       "    <tr>\n",
       "      <th>1</th>\n",
       "      <td>4.9</td>\n",
       "      <td>3.0</td>\n",
       "      <td>1.4</td>\n",
       "      <td>0.2</td>\n",
       "      <td>0</td>\n",
       "    </tr>\n",
       "    <tr>\n",
       "      <th>2</th>\n",
       "      <td>4.7</td>\n",
       "      <td>3.2</td>\n",
       "      <td>1.3</td>\n",
       "      <td>0.2</td>\n",
       "      <td>0</td>\n",
       "    </tr>\n",
       "    <tr>\n",
       "      <th>3</th>\n",
       "      <td>4.6</td>\n",
       "      <td>3.1</td>\n",
       "      <td>1.5</td>\n",
       "      <td>0.2</td>\n",
       "      <td>0</td>\n",
       "    </tr>\n",
       "    <tr>\n",
       "      <th>4</th>\n",
       "      <td>5.0</td>\n",
       "      <td>3.6</td>\n",
       "      <td>1.4</td>\n",
       "      <td>0.2</td>\n",
       "      <td>0</td>\n",
       "    </tr>\n",
       "  </tbody>\n",
       "</table>\n",
       "</div>"
      ],
      "text/plain": [
       "   sepal length (cm)  sepal width (cm)  petal length (cm)  petal width (cm)  \\\n",
       "0                5.1               3.5                1.4               0.2   \n",
       "1                4.9               3.0                1.4               0.2   \n",
       "2                4.7               3.2                1.3               0.2   \n",
       "3                4.6               3.1                1.5               0.2   \n",
       "4                5.0               3.6                1.4               0.2   \n",
       "\n",
       "   target  \n",
       "0       0  \n",
       "1       0  \n",
       "2       0  \n",
       "3       0  \n",
       "4       0  "
      ]
     },
     "execution_count": 6,
     "metadata": {},
     "output_type": "execute_result"
    }
   ],
   "source": [
    "# data as dataset\n",
    "import pandas as pd\n",
    "df = pd.DataFrame(X, columns = iris.feature_names)\n",
    "df['target'] = y\n",
    "df.head()"
   ]
  },
  {
   "cell_type": "markdown",
   "id": "4f0036c8-7fc4-4d7b-8d82-94f21dab6fef",
   "metadata": {},
   "source": [
    "## Step 2: Initialise classification model"
   ]
  },
  {
   "cell_type": "code",
   "execution_count": 8,
   "id": "b10b30a3-fa23-453d-a95e-677519f5c1e2",
   "metadata": {},
   "outputs": [],
   "source": [
    "model = LogisticRegression(max_iter = 1000)"
   ]
  },
  {
   "cell_type": "markdown",
   "id": "67b8fc38-1f11-4dc3-a788-17c0c338414b",
   "metadata": {},
   "source": [
    "## Step 3: Cross Validation and getting the predictions"
   ]
  },
  {
   "cell_type": "code",
   "execution_count": 13,
   "id": "c0314f32-7e20-41c7-81fb-d748d4a749dd",
   "metadata": {},
   "outputs": [],
   "source": [
    "# define 5-fold cross validation\n",
    "kf = KFold( n_splits = 5, shuffle=True, random_state = 11)"
   ]
  },
  {
   "cell_type": "code",
   "execution_count": 28,
   "id": "62dfbe40-4fbf-40e5-91c1-36e40cfdf9ae",
   "metadata": {},
   "outputs": [],
   "source": [
    "# cross_val_predict \n",
    "\"\"\"\n",
    "what it does = it will run the 5 fold CV, and thus store 1 chunk of predictions from each iteration of the fold\n",
    "and lastly it will stitch all those set of predictions (total = 5) and would thus make 150 total predictions (30 predictions from each fold of test)\n",
    "\n",
    "Thus it is called out-of-fold-predictions (or predictions made Out of the 5 folds )\n",
    "\"\"\"\n",
    "\n",
    "y_pred = cross_val_predict(\n",
    "    estimator = model,        # classification model\n",
    "    X = X,\n",
    "    y = y,\n",
    "    cv = kf                  # K fold Cross Validation technique\n",
    ")"
   ]
  },
  {
   "cell_type": "code",
   "execution_count": 17,
   "id": "007e2f8a-f8c0-484e-938d-c8a142ec120a",
   "metadata": {},
   "outputs": [
    {
     "name": "stdout",
     "output_type": "stream",
     "text": [
      "[0 0 0 0 0 0 0 0 0 0 0 0 0 0 0 0 0 0 0 0 0 0 0 0 0 0 0 0 0 0 0 0 0 0 0 0 0\n",
      " 0 0 0 0 0 0 0 0 0 0 0 0 0 1 1 1 1 1 1 1 1 1 1 1 1 1 1 1 1 1 1 1 1 2 1 1 1\n",
      " 1 1 1 2 1 1 1 1 1 2 1 1 1 1 1 1 1 1 1 1 1 1 1 1 1 1 2 2 2 2 2 2 1 2 2 2 2\n",
      " 2 2 2 2 2 2 2 2 1 2 2 2 2 2 2 2 2 2 2 2 2 2 1 2 2 2 2 2 2 2 2 2 2 2 2 2 2\n",
      " 2 2]\n"
     ]
    }
   ],
   "source": [
    "# see 150 total predictions (30 from each fold of the 5 fold CV\n",
    "print(y_pred)"
   ]
  },
  {
   "cell_type": "markdown",
   "id": "a82255a3-d2cc-4544-a064-bf8cf2ddca8d",
   "metadata": {},
   "source": [
    "## Step 4: Confusion matrix"
   ]
  },
  {
   "cell_type": "code",
   "execution_count": 18,
   "id": "0b2d4ce6-3b39-4700-b314-f997bbabb502",
   "metadata": {},
   "outputs": [],
   "source": [
    "conf_mat = confusion_matrix(y, y_pred)"
   ]
  },
  {
   "cell_type": "code",
   "execution_count": 20,
   "id": "6e97013c-2237-4451-b7ee-129bea6d2ea4",
   "metadata": {},
   "outputs": [
    {
     "name": "stdout",
     "output_type": "stream",
     "text": [
      "Confusion Matrix: \n",
      " [[50  0  0]\n",
      " [ 0 47  3]\n",
      " [ 0  3 47]]\n"
     ]
    }
   ],
   "source": [
    "print(\"Confusion Matrix: \\n\", conf_mat)"
   ]
  },
  {
   "cell_type": "markdown",
   "id": "944dcef0-a9f2-4e4b-a891-b84aca6347dd",
   "metadata": {},
   "source": [
    "**Confusion Matrix**\n",
    "\n",
    "* columns = Predicted\n",
    "* rows = Actual\n",
    "\n",
    "<table>\n",
    "    <th>\n",
    "        <td><b>0</b></td>\n",
    "        <td><b>1</b></td>\n",
    "        <td><b>2</b></td>\n",
    "    </th>\n",
    "    <tr>\n",
    "        <td><b>0</b></td>\n",
    "        <td>50</td>\n",
    "        <td>0</td>\n",
    "        <td>0</td>\n",
    "    </tr>\n",
    "    <tr>\n",
    "        <td><b>1</b></td>\n",
    "        <td>0</td>\n",
    "        <td>47</td>\n",
    "        <td>3</td>\n",
    "    </tr>\n",
    "    <tr>\n",
    "        <td><b>2</b></td>\n",
    "        <td>0</td>\n",
    "        <td>3</td>\n",
    "        <td>47</td>\n",
    "    </tr>\n",
    "</table>"
   ]
  },
  {
   "cell_type": "markdown",
   "id": "3ed98a09-ea25-4940-a0ca-37133aca94ed",
   "metadata": {},
   "source": [
    "## Step 5: Confusion matrix heatmap"
   ]
  },
  {
   "cell_type": "code",
   "execution_count": 23,
   "id": "5c258579-9004-46f9-a3d1-73cf9a20c8ed",
   "metadata": {},
   "outputs": [],
   "source": [
    "class_names = iris.target_names"
   ]
  },
  {
   "cell_type": "code",
   "execution_count": 24,
   "id": "564d156f-9560-4cb3-90ee-6660a85e042d",
   "metadata": {},
   "outputs": [
    {
     "data": {
      "image/png": "[encoded data removed]",
      "text/plain": [
       "<Figure size 640x480 with 2 Axes>"
      ]
     },
     "metadata": {},
     "output_type": "display_data"
    }
   ],
   "source": [
    "sns.heatmap(\n",
    "    data = conf_mat,     # 2D data to plot, confusion matrix\n",
    "    cmap = \"Greens\",      # color mapping\n",
    "    annot = True,        # annotations, number in the boxes\n",
    "    fmt = 'd',           # formatting string of annot - 'integer'\n",
    "    xticklabels = class_names,\n",
    "    yticklabels = class_names\n",
    ")\n",
    "\n",
    "plt.xlabel(\"Actual\")\n",
    "plt.ylabel(\"Predicted\")\n",
    "plt.title(\"Confusion Matrix\")\n",
    "plt.show()"
   ]
  },
  {
   "cell_type": "markdown",
   "id": "009777e4-fe82-455c-a87a-9ae44de3eb2c",
   "metadata": {},
   "source": [
    "## Step 6: Classification Report"
   ]
  },
  {
   "cell_type": "code",
   "execution_count": 27,
   "id": "fad2eb78-1323-4191-8162-ac4af3e30942",
   "metadata": {},
   "outputs": [
    {
     "name": "stdout",
     "output_type": "stream",
     "text": [
      "Classification Report\n",
      "\n",
      "              precision    recall  f1-score   support\n",
      "\n",
      "      setosa       1.00      1.00      1.00        50\n",
      "  versicolor       0.94      0.94      0.94        50\n",
      "   virginica       0.94      0.94      0.94        50\n",
      "\n",
      "    accuracy                           0.96       150\n",
      "   macro avg       0.96      0.96      0.96       150\n",
      "weighted avg       0.96      0.96      0.96       150\n",
      "\n"
     ]
    }
   ],
   "source": [
    "print(\"Classification Report\\n\")\n",
    "print(classification_report(y, y_pred, target_names = class_names) )"
   ]
  },
  {
   "cell_type": "code",
   "execution_count": null,
   "id": "b71ecc9d-8fb2-4573-aa1e-1e1c140df350",
   "metadata": {},
   "outputs": [],
   "source": []
  }
 ],
 "metadata": {
  "kernelspec": {
   "display_name": "Python 3 (ipykernel)",
   "language": "python",
   "name": "python3"
  },
  "language_info": {
   "codemirror_mode": {
    "name": "ipython",
    "version": 3
   },
   "file_extension": ".py",
   "mimetype": "text/x-python",
   "name": "python",
   "nbconvert_exporter": "python",
   "pygments_lexer": "ipython3",
   "version": "3.11.9"
  }
 },
 "nbformat": 4,
 "nbformat_minor": 5
}

{
 "cells": [
  {
   "cell_type": "markdown",
   "id": "3e0f4380-4681-41cd-914d-4fdf0dd27f4b",
   "metadata": {},
   "source": [
    "**PipeLine**  \\\n",
    "load -> model initialisation -> Cross validation -> cross-val-predict -> Confusion Matrix"
   ]
  },
  {
   "cell_type": "code",
   "execution_count": null,
   "id": "b9e9d822-2e53-4854-93b7-0cb8dc53d191",
   "metadata": {},
   "outputs": [],
   "source": []
  },
  {
   "cell_type": "code",
   "execution_count": null,
   "id": "75285419-e0e7-4f58-a74e-1301f82ff910",
   "metadata": {},
   "outputs": [],
   "source": []
  }
 ],
 "metadata": {
  "kernelspec": {
   "display_name": "Python 3 (ipykernel)",
   "language": "python",
   "name": "python3"
  },
  "language_info": {
   "codemirror_mode": {
    "name": "ipython",
    "version": 3
   },
   "file_extension": ".py",
   "mimetype": "text/x-python",
   "name": "python",
   "nbconvert_exporter": "python",
   "pygments_lexer": "ipython3",
   "version": "3.11.9"
  }
 },
 "nbformat": 4,
 "nbformat_minor": 5
}

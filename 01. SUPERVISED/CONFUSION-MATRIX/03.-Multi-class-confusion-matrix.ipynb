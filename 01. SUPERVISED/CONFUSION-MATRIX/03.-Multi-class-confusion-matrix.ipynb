{
 "cells": [
  {
   "cell_type": "markdown",
   "id": "9ead7b84-e0e2-4f17-aeaf-c99eb8641a75",
   "metadata": {},
   "source": [
    "## Step 0: Setup"
   ]
  },
  {
   "cell_type": "code",
   "execution_count": 14,
   "id": "8b3c5db1-38a5-4588-a7a5-f4c3d30bae81",
   "metadata": {},
   "outputs": [],
   "source": [
    "from sklearn.metrics import confusion_matrix, classification_report\n",
    "import matplotlib.pyplot as plt\n",
    "import seaborn as sns"
   ]
  },
  {
   "cell_type": "markdown",
   "id": "48be4766-0535-42bf-82b5-47c5afbf66d8",
   "metadata": {},
   "source": [
    "## Step 1: dummy data"
   ]
  },
  {
   "cell_type": "markdown",
   "id": "6d5bda86-a7d7-48ae-be38-f20ad7bd5aa7",
   "metadata": {},
   "source": [
    "3 classes\n",
    "* Cat : **0**\n",
    "* Dog : **1**\n",
    "* Rabbit : **2**"
   ]
  },
  {
   "cell_type": "code",
   "execution_count": 6,
   "id": "2b25726f-5616-4474-b74e-95a50b25edcf",
   "metadata": {},
   "outputs": [],
   "source": [
    "# Actual labels\n",
    "y_actual = [0, 0, 0, 1, 1, 1, 2, 2, 2]\n",
    "\n",
    "# Predicted labels\n",
    "y_pred =   [0, 0, 1, 1, 2, 1, 2, 0, 2]"
   ]
  },
  {
   "cell_type": "markdown",
   "id": "4cedd3cf-1f8c-4f9a-ab6b-b7dc95eed7bc",
   "metadata": {},
   "source": [
    "## Step 2: confusion matrix"
   ]
  },
  {
   "cell_type": "code",
   "execution_count": 4,
   "id": "c2979014-182c-43f9-9724-28dd66fb353a",
   "metadata": {},
   "outputs": [],
   "source": [
    "conf_mat = confusion_matrix(y_actual, y_pred)"
   ]
  },
  {
   "cell_type": "code",
   "execution_count": 5,
   "id": "527c165a-5b29-4084-b646-12f9d282d7f5",
   "metadata": {},
   "outputs": [
    {
     "name": "stdout",
     "output_type": "stream",
     "text": [
      "[[2 1 0]\n",
      " [0 2 1]\n",
      " [1 0 2]]\n"
     ]
    }
   ],
   "source": [
    "print(conf_mat)"
   ]
  },
  {
   "cell_type": "markdown",
   "id": "19dd6ad5-21e0-48a7-b5ab-4c9aedb05b6e",
   "metadata": {},
   "source": [
    "**Confusion matrix**  \n",
    "(Columns = Predicted, Rows = Actual)\n",
    "\n",
    "<table>\n",
    "    <th>\n",
    "        <td>Cat</td>\n",
    "        <td>Dog</td>\n",
    "        <td>Rabbit</td>\n",
    "    </th>\n",
    "    <tr>\n",
    "        <td>Cat</td>\n",
    "        <td>2</td>\n",
    "        <td>1</td>\n",
    "        <td>0</td>\n",
    "    </tr>\n",
    "    <tr>\n",
    "        <td>Dog</td>\n",
    "        <td>0</td>\n",
    "        <td>2</td>\n",
    "        <td>1</td>\n",
    "    </tr>\n",
    "    <tr>\n",
    "        <td>Rabbit</td>\n",
    "        <td>1</td>\n",
    "        <td>0</td>\n",
    "        <td>2</td>\n",
    "    </tr>\n",
    "</table>"
   ]
  },
  {
   "cell_type": "markdown",
   "id": "290e332f-0111-41a8-b07a-233669600cb3",
   "metadata": {},
   "source": [
    "## Step 3: Plot heatmap"
   ]
  },
  {
   "cell_type": "code",
   "execution_count": 11,
   "id": "3d1b7862-4c8c-4051-bb3e-68198097e17d",
   "metadata": {},
   "outputs": [],
   "source": [
    "class_names = ['Cat', 'Dog', 'Rabbit']"
   ]
  },
  {
   "cell_type": "code",
   "execution_count": 13,
   "id": "46060efb-c526-4a1d-9c03-6fcce46e7762",
   "metadata": {},
   "outputs": [
    {
     "data": {
      "image/png": "[encoded data removed]",
      "text/plain": [
       "<Figure size 640x480 with 2 Axes>"
      ]
     },
     "metadata": {},
     "output_type": "display_data"
    }
   ],
   "source": [
    "sns.heatmap(\n",
    "    data = conf_mat,   # 2D data to plot, here confusion matrix\n",
    "    annot = True,      # numbers in the boxes\n",
    "    fmt = 'd',         # formatting string of annot is 'integer'\n",
    "    cmap = 'Blues',    # color mapping\n",
    "    xticklabels = class_names,\n",
    "    yticklabels = class_names\n",
    ")\n",
    "\n",
    "plt.ylabel(\"Actual\")\n",
    "plt.xlabel(\"Predicted\")\n",
    "plt.title(\"Multi-class Confusion Matrix\")\n",
    "plt.show()"
   ]
  },
  {
   "cell_type": "markdown",
   "id": "42f8806a-b0e1-4ad3-9562-8086f3230585",
   "metadata": {},
   "source": [
    "## Step 4: Classification report"
   ]
  },
  {
   "cell_type": "code",
   "execution_count": 15,
   "id": "a3a1b825-3595-46a6-99cb-957675b9a5fb",
   "metadata": {},
   "outputs": [
    {
     "name": "stdout",
     "output_type": "stream",
     "text": [
      "Classification Report\n",
      "              precision    recall  f1-score   support\n",
      "\n",
      "           0       0.67      0.67      0.67         3\n",
      "           1       0.67      0.67      0.67         3\n",
      "           2       0.67      0.67      0.67         3\n",
      "\n",
      "    accuracy                           0.67         9\n",
      "   macro avg       0.67      0.67      0.67         9\n",
      "weighted avg       0.67      0.67      0.67         9\n",
      "\n"
     ]
    }
   ],
   "source": [
    "print(\"Classification Report\")\n",
    "print( classification_report( y_actual, y_pred ) )"
   ]
  },
  {
   "cell_type": "code",
   "execution_count": null,
   "id": "33713c90-16dc-47a3-9ea5-d03188cbf0fc",
   "metadata": {},
   "outputs": [],
   "source": []
  }
 ],
 "metadata": {
  "kernelspec": {
   "display_name": "Python 3 (ipykernel)",
   "language": "python",
   "name": "python3"
  },
  "language_info": {
   "codemirror_mode": {
    "name": "ipython",
    "version": 3
   },
   "file_extension": ".py",
   "mimetype": "text/x-python",
   "name": "python",
   "nbconvert_exporter": "python",
   "pygments_lexer": "ipython3",
   "version": "3.11.9"
  }
 },
 "nbformat": 4,
 "nbformat_minor": 5
}

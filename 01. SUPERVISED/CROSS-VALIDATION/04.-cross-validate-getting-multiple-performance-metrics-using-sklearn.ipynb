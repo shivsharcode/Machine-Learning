{
 "cells": [
  {
   "cell_type": "markdown",
   "id": "164a2b5f-7b95-425c-a0fe-0f566a2b42c9",
   "metadata": {},
   "source": [
    "## Step 0: Setup"
   ]
  },
  {
   "cell_type": "code",
   "execution_count": 1,
   "id": "05741b44-3ae4-42ff-9d1e-9376ec6c2c29",
   "metadata": {},
   "outputs": [],
   "source": [
    "from sklearn.datasets import load_iris\n",
    "from sklearn.linear_model import LogisticRegression\n",
    "from sklearn.model_selection import KFold, cross_validate\n",
    "\n",
    "from sklearn.metrics import make_scorer, f1_score"
   ]
  },
  {
   "cell_type": "markdown",
   "id": "67ce6e69-db92-4259-aba6-9bfb9220d8bb",
   "metadata": {},
   "source": [
    "## Step 1: Load Dataset"
   ]
  },
  {
   "cell_type": "code",
   "execution_count": 2,
   "id": "faa107e2-f01d-4db9-92bc-a027d194ed42",
   "metadata": {},
   "outputs": [],
   "source": [
    "iris = load_iris()"
   ]
  },
  {
   "cell_type": "code",
   "execution_count": 4,
   "id": "fc92982c-ef8c-47d4-834a-4a6a0b229f97",
   "metadata": {},
   "outputs": [
    {
     "name": "stdout",
     "output_type": "stream",
     "text": [
      "data\n",
      "target\n",
      "frame\n",
      "target_names\n",
      "DESCR\n",
      "feature_names\n",
      "filename\n",
      "data_module\n"
     ]
    }
   ],
   "source": [
    "for key in iris:\n",
    "    print(key)"
   ]
  },
  {
   "cell_type": "code",
   "execution_count": 5,
   "id": "fc4f945d-cf4f-4968-831d-d482f830e7f0",
   "metadata": {},
   "outputs": [],
   "source": [
    "X = iris.data\n",
    "y = iris.target"
   ]
  },
  {
   "cell_type": "markdown",
   "id": "bc913923-1a37-438d-9eda-427484a53af5",
   "metadata": {},
   "source": [
    "## Step 2: initialise classification model"
   ]
  },
  {
   "cell_type": "code",
   "execution_count": 10,
   "id": "bd5daa82-681c-4939-a2b3-572e2eb54751",
   "metadata": {},
   "outputs": [],
   "source": [
    "model = LogisticRegression(max_iter = 1000)"
   ]
  },
  {
   "cell_type": "markdown",
   "id": "28524a9e-180e-4fe1-8649-4e9a3b1bb50a",
   "metadata": {},
   "source": [
    "## Step 3 : K fold CV and getting multiple performance metrics"
   ]
  },
  {
   "cell_type": "code",
   "execution_count": 11,
   "id": "2488f1d9-c094-4e51-ba51-9bc1641c6200",
   "metadata": {},
   "outputs": [],
   "source": [
    "kf = KFold(5, shuffle= True, random_state = 11)"
   ]
  },
  {
   "cell_type": "code",
   "execution_count": 12,
   "id": "1d1b7c41-afd7-4780-813d-9604c97fe691",
   "metadata": {},
   "outputs": [],
   "source": [
    "# defining the metrics we want\n",
    "scoring = {\n",
    "    \"accuracy\" : \"accuracy\", # metric -1\n",
    "    \"f1_macro\" : make_scorer(f1_score, average='macro')   # metric -2\n",
    "}"
   ]
  },
  {
   "cell_type": "code",
   "execution_count": 13,
   "id": "d80472b8-90a5-457a-82ba-2a7033c10b25",
   "metadata": {},
   "outputs": [],
   "source": [
    "scores = cross_validate(\n",
    "    estimator = model,\n",
    "    X = X,\n",
    "    y = y,\n",
    "    cv = kf,\n",
    "    scoring = scoring,\n",
    "    return_train_score = False\n",
    ")"
   ]
  },
  {
   "cell_type": "markdown",
   "id": "80df7f44-f52c-4c32-9253-f08bbc6a23df",
   "metadata": {},
   "source": [
    "## Step 4: Result"
   ]
  },
  {
   "cell_type": "code",
   "execution_count": 14,
   "id": "53eb2864-9f8a-4ccc-ae9b-c61f05cb9bd0",
   "metadata": {},
   "outputs": [
    {
     "name": "stdout",
     "output_type": "stream",
     "text": [
      "{'fit_time': array([0.01297045, 0.0120008 , 0.05190253, 0.06300735, 0.05300403]), 'score_time': array([0.00399637, 0.00600004, 0.01100206, 0.01108599, 0.00700808]), 'test_accuracy': array([0.93333333, 0.9       , 1.        , 1.        , 0.96666667]), 'test_f1_macro': array([0.93636364, 0.89355742, 1.        , 1.        , 0.97079365])}\n"
     ]
    }
   ],
   "source": [
    "print(scores)"
   ]
  },
  {
   "cell_type": "code",
   "execution_count": 16,
   "id": "bdc609fa-34db-471b-888e-972201ae6d80",
   "metadata": {},
   "outputs": [
    {
     "name": "stdout",
     "output_type": "stream",
     "text": [
      "fit_time : [0.01297045 0.0120008  0.05190253 0.06300735 0.05300403]\n",
      "score_time : [0.00399637 0.00600004 0.01100206 0.01108599 0.00700808]\n",
      "test_accuracy : [0.93333333 0.9        1.         1.         0.96666667]\n",
      "test_f1_macro : [0.93636364 0.89355742 1.         1.         0.97079365]\n"
     ]
    }
   ],
   "source": [
    "for key in scores:\n",
    "    print(f\"{key} : {scores[key]}\")"
   ]
  },
  {
   "cell_type": "markdown",
   "id": "1880017f-7ec9-49ee-a164-c585f16dafb1",
   "metadata": {},
   "source": [
    "it has multiple metrics, and the last two are those what we defined"
   ]
  },
  {
   "cell_type": "code",
   "execution_count": 20,
   "id": "f41a3139-4d3b-4618-9b9f-32f472ca2ea5",
   "metadata": {},
   "outputs": [
    {
     "name": "stdout",
     "output_type": "stream",
     "text": [
      "Mean Accuracy :  0.96\n"
     ]
    }
   ],
   "source": [
    "# Mean accuracy\n",
    "print(\"Mean Accuracy : \", scores['test_accuracy'].mean())"
   ]
  },
  {
   "cell_type": "markdown",
   "id": "81a48fd8-0a49-4ae5-b190-50da18b7dc7b",
   "metadata": {},
   "source": [
    "Mean Accuracy is **96%** "
   ]
  },
  {
   "cell_type": "code",
   "execution_count": null,
   "id": "c971c60b-1c89-4c70-8801-214219c849cc",
   "metadata": {},
   "outputs": [],
   "source": []
  }
 ],
 "metadata": {
  "kernelspec": {
   "display_name": "Python 3 (ipykernel)",
   "language": "python",
   "name": "python3"
  },
  "language_info": {
   "codemirror_mode": {
    "name": "ipython",
    "version": 3
   },
   "file_extension": ".py",
   "mimetype": "text/x-python",
   "name": "python",
   "nbconvert_exporter": "python",
   "pygments_lexer": "ipython3",
   "version": "3.11.9"
  }
 },
 "nbformat": 4,
 "nbformat_minor": 5
}

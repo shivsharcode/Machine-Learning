{
 "cells": [
  {
   "cell_type": "markdown",
   "id": "1785f55f-ed00-4ae4-841d-0e14da381511",
   "metadata": {},
   "source": [
    "## Step 0: Setup"
   ]
  },
  {
   "cell_type": "code",
   "execution_count": 10,
   "id": "59a5cf78-6c1f-43f6-aa28-871919ffcdd0",
   "metadata": {},
   "outputs": [],
   "source": [
    "from sklearn.datasets import load_iris\n",
    "from sklearn.linear_model import LogisticRegression\n",
    "from sklearn.model_selection import StratifiedKFold, cross_val_score\n",
    "\n",
    "from sklearn.metrics import make_scorer, f1_score"
   ]
  },
  {
   "cell_type": "markdown",
   "id": "3a13a223-6c1a-4be4-9294-e7e622410d7f",
   "metadata": {},
   "source": [
    "## Step 1: Load dataset"
   ]
  },
  {
   "cell_type": "code",
   "execution_count": 11,
   "id": "45f45fa6-abf8-408d-a9e9-fe26d423ece9",
   "metadata": {},
   "outputs": [],
   "source": [
    "iris = load_iris()"
   ]
  },
  {
   "cell_type": "code",
   "execution_count": 12,
   "id": "b6d7966b-b91f-4945-bb61-50e59609fcfe",
   "metadata": {},
   "outputs": [
    {
     "name": "stdout",
     "output_type": "stream",
     "text": [
      "data\n",
      "target\n",
      "frame\n",
      "target_names\n",
      "DESCR\n",
      "feature_names\n",
      "filename\n",
      "data_module\n"
     ]
    }
   ],
   "source": [
    "for key in iris:\n",
    "    print(key)"
   ]
  },
  {
   "cell_type": "code",
   "execution_count": 13,
   "id": "9a93ce51-13d1-4b51-bfa1-02882870a9fb",
   "metadata": {},
   "outputs": [],
   "source": [
    "X = iris.data\n",
    "y = iris.target"
   ]
  },
  {
   "cell_type": "code",
   "execution_count": 14,
   "id": "9604bfa1-444e-420d-80dc-fbe4fc69d02f",
   "metadata": {},
   "outputs": [
    {
     "data": {
      "text/html": [
       "<div>\n",
       "<style scoped>\n",
       "    .dataframe tbody tr th:only-of-type {\n",
       "        vertical-align: middle;\n",
       "    }\n",
       "\n",
       "    .dataframe tbody tr th {\n",
       "        vertical-align: top;\n",
       "    }\n",
       "\n",
       "    .dataframe thead th {\n",
       "        text-align: right;\n",
       "    }\n",
       "</style>\n",
       "<table border=\"1\" class=\"dataframe\">\n",
       "  <thead>\n",
       "    <tr style=\"text-align: right;\">\n",
       "      <th></th>\n",
       "      <th>sepal length (cm)</th>\n",
       "      <th>sepal width (cm)</th>\n",
       "      <th>petal length (cm)</th>\n",
       "      <th>petal width (cm)</th>\n",
       "      <th>target</th>\n",
       "    </tr>\n",
       "  </thead>\n",
       "  <tbody>\n",
       "    <tr>\n",
       "      <th>0</th>\n",
       "      <td>5.1</td>\n",
       "      <td>3.5</td>\n",
       "      <td>1.4</td>\n",
       "      <td>0.2</td>\n",
       "      <td>0</td>\n",
       "    </tr>\n",
       "    <tr>\n",
       "      <th>1</th>\n",
       "      <td>4.9</td>\n",
       "      <td>3.0</td>\n",
       "      <td>1.4</td>\n",
       "      <td>0.2</td>\n",
       "      <td>0</td>\n",
       "    </tr>\n",
       "    <tr>\n",
       "      <th>2</th>\n",
       "      <td>4.7</td>\n",
       "      <td>3.2</td>\n",
       "      <td>1.3</td>\n",
       "      <td>0.2</td>\n",
       "      <td>0</td>\n",
       "    </tr>\n",
       "    <tr>\n",
       "      <th>3</th>\n",
       "      <td>4.6</td>\n",
       "      <td>3.1</td>\n",
       "      <td>1.5</td>\n",
       "      <td>0.2</td>\n",
       "      <td>0</td>\n",
       "    </tr>\n",
       "    <tr>\n",
       "      <th>4</th>\n",
       "      <td>5.0</td>\n",
       "      <td>3.6</td>\n",
       "      <td>1.4</td>\n",
       "      <td>0.2</td>\n",
       "      <td>0</td>\n",
       "    </tr>\n",
       "  </tbody>\n",
       "</table>\n",
       "</div>"
      ],
      "text/plain": [
       "   sepal length (cm)  sepal width (cm)  petal length (cm)  petal width (cm)  \\\n",
       "0                5.1               3.5                1.4               0.2   \n",
       "1                4.9               3.0                1.4               0.2   \n",
       "2                4.7               3.2                1.3               0.2   \n",
       "3                4.6               3.1                1.5               0.2   \n",
       "4                5.0               3.6                1.4               0.2   \n",
       "\n",
       "   target  \n",
       "0       0  \n",
       "1       0  \n",
       "2       0  \n",
       "3       0  \n",
       "4       0  "
      ]
     },
     "execution_count": 14,
     "metadata": {},
     "output_type": "execute_result"
    }
   ],
   "source": [
    "# iris data as Dataframe\n",
    "import pandas as pd\n",
    "\n",
    "df = pd.DataFrame(X, columns = iris.feature_names)\n",
    "df['target'] = y\n",
    "df.head()"
   ]
  },
  {
   "cell_type": "markdown",
   "id": "e9b02969-dbae-4437-9472-5657fcb12b88",
   "metadata": {},
   "source": [
    "## Step 2: initialise classification model"
   ]
  },
  {
   "cell_type": "code",
   "execution_count": 15,
   "id": "0336aa85-c9ea-4141-bb65-bab2dcf52dfe",
   "metadata": {},
   "outputs": [],
   "source": [
    "model = LogisticRegression(max_iter = 1000)"
   ]
  },
  {
   "cell_type": "markdown",
   "id": "e7e78c9d-3254-48c5-8ba8-ca8ac65aeda1",
   "metadata": {},
   "source": [
    "## Step 3: Stratified K fold"
   ]
  },
  {
   "cell_type": "code",
   "execution_count": 16,
   "id": "750e51ff-b808-439f-b988-0d4a765531ef",
   "metadata": {},
   "outputs": [],
   "source": [
    "# initialise\n",
    "stratified_kf = StratifiedKFold(\n",
    "    n_splits = 5,\n",
    "    shuffle = True,\n",
    "    random_state = 11\n",
    ")"
   ]
  },
  {
   "cell_type": "markdown",
   "id": "af3ff025-3328-453e-9a1a-901a65770baf",
   "metadata": {},
   "source": [
    "using the utility function cross_val_score which automates training/testing across folds and returns performance scores. (below code)"
   ]
  },
  {
   "cell_type": "code",
   "execution_count": 17,
   "id": "2241a814-bd50-4d29-a8a6-f8260cb56ca2",
   "metadata": {},
   "outputs": [],
   "source": [
    "scores = cross_val_score(\n",
    "    estimator = model,     # model\n",
    "    X = X,                 # samples\n",
    "    y = y,                 # target\n",
    "    cv = stratified_kf,    # cross val method\n",
    "    scoring = \"accuracy\"   # performance metric\n",
    ")"
   ]
  },
  {
   "cell_type": "markdown",
   "id": "6bb3ce1d-e2cd-4dda-9199-dd976b225b98",
   "metadata": {},
   "source": [
    "## Step 4: Result"
   ]
  },
  {
   "cell_type": "code",
   "execution_count": 18,
   "id": "93003b50-6bd0-4d02-a339-b3bf47af2f57",
   "metadata": {},
   "outputs": [
    {
     "name": "stdout",
     "output_type": "stream",
     "text": [
      "Cross Validation Scores :  [1.         0.96666667 0.9        0.96666667 0.96666667]\n",
      "1.0\n",
      "0.9666666666666667\n",
      "0.9\n",
      "0.9666666666666667\n",
      "0.9666666666666667\n"
     ]
    }
   ],
   "source": [
    "print(\"Cross Validation Scores : \", scores)\n",
    "for i in scores:\n",
    "    print(i)"
   ]
  },
  {
   "cell_type": "code",
   "execution_count": 19,
   "id": "a53f6d35-550d-4376-b86a-f45a7be73572",
   "metadata": {},
   "outputs": [
    {
     "name": "stdout",
     "output_type": "stream",
     "text": [
      "Mean Accuracy :  0.96\n"
     ]
    }
   ],
   "source": [
    "print(\"Mean Accuracy : \", scores.mean())"
   ]
  },
  {
   "cell_type": "markdown",
   "id": "007f00b4-270d-47af-b2ca-99dac7ee64e3",
   "metadata": {},
   "source": [
    "So average mean accuracy with Stratified K fold is **0.96**"
   ]
  },
  {
   "cell_type": "markdown",
   "id": "5ace7d63-1906-4680-b261-c696817af7c3",
   "metadata": {},
   "source": [
    "## question : why the accuracy is better here than kfold cv (01 ipynb) ?"
   ]
  },
  {
   "cell_type": "markdown",
   "id": "feccc35a-3cb3-41cb-9080-c7177694e51e",
   "metadata": {},
   "source": [
    "**Answer** : \n",
    "* In both the notebooks, k = 5, and since iris is a balanced dataset it has 50 samples each class, \n",
    "* now since k = 5 (each chunk = 30 datapoints), and shuffling = True, it is not guaranteed that the class proportions of 1/3 is maintained in the chunks during **kfolds**, thus they might be misproportion\n",
    "* and there can be a severe case where one of the class representation in those 30 points of chunk of testing is zero\n",
    "* *Wheareas* in **Stratified K fold**, the class proportions of (1/3) is maintained in each chunk\n",
    "* Thereby the variance is low and the accuracy increases"
   ]
  },
  {
   "cell_type": "code",
   "execution_count": null,
   "id": "6d493ef7-01d3-47ac-8332-b54dcc025f9d",
   "metadata": {},
   "outputs": [],
   "source": []
  }
 ],
 "metadata": {
  "kernelspec": {
   "display_name": "Python 3 (ipykernel)",
   "language": "python",
   "name": "python3"
  },
  "language_info": {
   "codemirror_mode": {
    "name": "ipython",
    "version": 3
   },
   "file_extension": ".py",
   "mimetype": "text/x-python",
   "name": "python",
   "nbconvert_exporter": "python",
   "pygments_lexer": "ipython3",
   "version": "3.11.9"
  }
 },
 "nbformat": 4,
 "nbformat_minor": 5
}

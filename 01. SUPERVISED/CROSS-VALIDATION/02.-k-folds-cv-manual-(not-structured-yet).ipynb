{
 "cells": [
  {
   "cell_type": "markdown",
   "id": "73a060ac-cab0-4b71-a1d4-ac47b0c697fb",
   "metadata": {},
   "source": [
    "## Step 0: Tiny Dataset"
   ]
  },
  {
   "cell_type": "code",
   "execution_count": 1,
   "id": "d9e9c522-20b5-4f1c-a2ec-4b0885ae16f0",
   "metadata": {},
   "outputs": [],
   "source": [
    "import numpy as np"
   ]
  },
  {
   "cell_type": "code",
   "execution_count": 2,
   "id": "55fc1348-2d65-45fb-a5e3-7f0205f9760f",
   "metadata": {},
   "outputs": [],
   "source": [
    "# Tiny dataset for regression (6 datapoints)\n",
    "\n",
    "X = np.array(\n",
    "    [\n",
    "        [1.0], \n",
    "        [2.0], \n",
    "        [3.0], \n",
    "        [4.0], \n",
    "        [5.0], \n",
    "        [6.0]\n",
    "    ]\n",
    ")\n",
    "\n",
    "# target (y_actual)\n",
    "y = np.array(\n",
    "    [2.2, 3.9, 6.1, 7.8, 10.2, 11.7]\n",
    ") # roughly y = 2x, with a small noise"
   ]
  },
  {
   "cell_type": "code",
   "execution_count": 10,
   "id": "bf6279f6-7d7f-44f0-801f-3930d5e2b013",
   "metadata": {},
   "outputs": [
    {
     "name": "stdout",
     "output_type": "stream",
     "text": [
      "(6, 1) 2D matrix : 6 rows, 1 column\n",
      "(6,)   1D vector : 6 elements\n"
     ]
    }
   ],
   "source": [
    "print(X.shape, \"2D matrix : 6 rows, 1 column\")\n",
    "print(y.shape, \"  1D vector : 6 elements\")"
   ]
  },
  {
   "cell_type": "markdown",
   "id": "40251d30-bf8d-4fd2-98c1-d34fce165d26",
   "metadata": {},
   "source": [
    "### dataframe"
   ]
  },
  {
   "cell_type": "code",
   "execution_count": 11,
   "id": "e8201a8b-9122-44ba-bd7f-702adaadb9ef",
   "metadata": {},
   "outputs": [],
   "source": [
    "import pandas as pd"
   ]
  },
  {
   "cell_type": "code",
   "execution_count": 25,
   "id": "2fa91b9a-389b-49c5-9859-b0648a9cb0ba",
   "metadata": {},
   "outputs": [
    {
     "name": "stdout",
     "output_type": "stream",
     "text": [
      "[[ 1.   2.2]\n",
      " [ 2.   3.9]\n",
      " [ 3.   6.1]\n",
      " [ 4.   7.8]\n",
      " [ 5.  10.2]\n",
      " [ 6.  11.7]]\n"
     ]
    }
   ],
   "source": [
    "# combine X, y into single array\n",
    "data = np.hstack(\n",
    "    (X, y.reshape(-1, 1))   # rehape as convert y to 2d\n",
    ")\n",
    "print(data)"
   ]
  },
  {
   "cell_type": "code",
   "execution_count": 21,
   "id": "22a0d529-0649-4441-a49e-3c01a95ee4b9",
   "metadata": {},
   "outputs": [
    {
     "data": {
      "text/plain": [
       "array([[ 2.2],\n",
       "       [ 3.9],\n",
       "       [ 6.1],\n",
       "       [ 7.8],\n",
       "       [10.2],\n",
       "       [11.7]])"
      ]
     },
     "execution_count": 21,
     "metadata": {},
     "output_type": "execute_result"
    }
   ],
   "source": [
    "y.reshape(-1, 1)"
   ]
  },
  {
   "cell_type": "code",
   "execution_count": 26,
   "id": "13c939eb-11bb-4c13-80bd-7c7d222ea875",
   "metadata": {},
   "outputs": [
    {
     "data": {
      "text/html": [
       "<div>\n",
       "<style scoped>\n",
       "    .dataframe tbody tr th:only-of-type {\n",
       "        vertical-align: middle;\n",
       "    }\n",
       "\n",
       "    .dataframe tbody tr th {\n",
       "        vertical-align: top;\n",
       "    }\n",
       "\n",
       "    .dataframe thead th {\n",
       "        text-align: right;\n",
       "    }\n",
       "</style>\n",
       "<table border=\"1\" class=\"dataframe\">\n",
       "  <thead>\n",
       "    <tr style=\"text-align: right;\">\n",
       "      <th></th>\n",
       "      <th>X</th>\n",
       "      <th>y</th>\n",
       "    </tr>\n",
       "  </thead>\n",
       "  <tbody>\n",
       "    <tr>\n",
       "      <th>0</th>\n",
       "      <td>1.0</td>\n",
       "      <td>2.2</td>\n",
       "    </tr>\n",
       "    <tr>\n",
       "      <th>1</th>\n",
       "      <td>2.0</td>\n",
       "      <td>3.9</td>\n",
       "    </tr>\n",
       "    <tr>\n",
       "      <th>2</th>\n",
       "      <td>3.0</td>\n",
       "      <td>6.1</td>\n",
       "    </tr>\n",
       "    <tr>\n",
       "      <th>3</th>\n",
       "      <td>4.0</td>\n",
       "      <td>7.8</td>\n",
       "    </tr>\n",
       "    <tr>\n",
       "      <th>4</th>\n",
       "      <td>5.0</td>\n",
       "      <td>10.2</td>\n",
       "    </tr>\n",
       "  </tbody>\n",
       "</table>\n",
       "</div>"
      ],
      "text/plain": [
       "     X     y\n",
       "0  1.0   2.2\n",
       "1  2.0   3.9\n",
       "2  3.0   6.1\n",
       "3  4.0   7.8\n",
       "4  5.0  10.2"
      ]
     },
     "execution_count": 26,
     "metadata": {},
     "output_type": "execute_result"
    }
   ],
   "source": [
    "df = pd.DataFrame(data, columns=[\"X\", \"y\"])\n",
    "df.head()"
   ]
  },
  {
   "cell_type": "markdown",
   "id": "b4a2f0b5-0465-469b-afa0-2ac922ba3130",
   "metadata": {},
   "source": [
    "## Step - 1: Linear Regression"
   ]
  },
  {
   "cell_type": "markdown",
   "id": "8478394d-3d45-4823-9a2a-4e881ac41675",
   "metadata": {},
   "source": [
    "### Linear Regression model"
   ]
  },
  {
   "cell_type": "code",
   "execution_count": 40,
   "id": "203a4f2d-1c9b-44ed-b2fc-de4ce14b5ea9",
   "metadata": {},
   "outputs": [],
   "source": [
    "from sklearn.linear_model import LinearRegression"
   ]
  },
  {
   "cell_type": "code",
   "execution_count": 41,
   "id": "604f0384-ce54-47d0-9aab-a04765d332d2",
   "metadata": {},
   "outputs": [],
   "source": [
    "model = LinearRegression()"
   ]
  },
  {
   "cell_type": "markdown",
   "id": "ff692203-ac53-4bc1-bb0b-5a99662b62ab",
   "metadata": {},
   "source": [
    "### mse"
   ]
  },
  {
   "cell_type": "code",
   "execution_count": 51,
   "id": "274a5cd9-f509-4f65-8aa2-9da7a25f5c32",
   "metadata": {},
   "outputs": [],
   "source": [
    "from sklearn.metrics import mean_squared_error"
   ]
  },
  {
   "cell_type": "code",
   "execution_count": null,
   "id": "0453c371-43b4-4379-9308-63dd1c627e61",
   "metadata": {},
   "outputs": [],
   "source": []
  },
  {
   "cell_type": "markdown",
   "id": "7cd72b8d-2a3a-4005-90e3-c7262bc785bc",
   "metadata": {},
   "source": [
    "## Step 2: Make k folds (indices only, shuffled k folds)"
   ]
  },
  {
   "cell_type": "code",
   "execution_count": 47,
   "id": "e19718d4-711b-48dd-9a37-03279cf408a1",
   "metadata": {},
   "outputs": [],
   "source": [
    "def make_kfolds_indices(n_samples, k = 3, shuffle=False, seed = 42):\n",
    "    indices_arr = np.arange(n_samples)\n",
    "\n",
    "    if shuffle:\n",
    "        # random number generator\n",
    "        rng = np.random.default_rng(seed)\n",
    "        rng.shuffle(indices_arr)\n",
    "\n",
    "    # split indices arr into k nearly equal chunks  (will be shuffled indices if shuffle == True, otherwise ordered chunk)\n",
    "    kfolds = np.split(indices_arr , k )  # k = no of split\n",
    "    \n",
    "    return kfolds"
   ]
  },
  {
   "cell_type": "code",
   "execution_count": 49,
   "id": "44725b1e-1068-4938-8076-85ba6b29d85b",
   "metadata": {},
   "outputs": [],
   "source": [
    "k = 3"
   ]
  },
  {
   "cell_type": "code",
   "execution_count": 62,
   "id": "553d46f9-104a-46fa-9dab-c04c60b2400d",
   "metadata": {},
   "outputs": [
    {
     "name": "stdout",
     "output_type": "stream",
     "text": [
      "[array([0, 1]), array([2, 3]), array([4, 5])]\n"
     ]
    }
   ],
   "source": [
    "kfold_indices = make_kfolds_indices(len(y), k = k, shuffle = False)\n",
    "print(kfold_indices)"
   ]
  },
  {
   "cell_type": "code",
   "execution_count": null,
   "id": "fe6d54d8-1524-419e-85e7-2b252975936e",
   "metadata": {},
   "outputs": [],
   "source": []
  },
  {
   "cell_type": "markdown",
   "id": "f6a36005-633c-4a70-b7fe-9d44e6e0a7f1",
   "metadata": {},
   "source": [
    "### kfolds loop"
   ]
  },
  {
   "cell_type": "code",
   "execution_count": 94,
   "id": "1ae1f813-2e7d-488f-8112-627f74d9fd76",
   "metadata": {},
   "outputs": [
    {
     "data": {
      "text/plain": [
       "array([[1.],\n",
       "       [2.],\n",
       "       [3.],\n",
       "       [4.],\n",
       "       [5.],\n",
       "       [6.]])"
      ]
     },
     "execution_count": 94,
     "metadata": {},
     "output_type": "execute_result"
    }
   ],
   "source": [
    "X"
   ]
  },
  {
   "cell_type": "code",
   "execution_count": 125,
   "id": "766389f1-2846-4ad7-9b29-68445d636190",
   "metadata": {},
   "outputs": [
    {
     "name": "stdout",
     "output_type": "stream",
     "text": [
      "Validation indices :  [0 1]\n",
      "Train indices :  [2 3 4 5]\n",
      "\n",
      "df train \n",
      "      X     y\n",
      "2  3.0   6.1\n",
      "3  4.0   7.8\n",
      "4  5.0  10.2\n",
      "5  6.0  11.7\n",
      "\n",
      "df val \n",
      "      X    y\n",
      "0  1.0  2.2\n",
      "1  2.0  3.9\n",
      "MSE SCORE = 0.0316999999999996\n",
      "\n",
      "\n",
      "\n",
      "Validation indices :  [2 3]\n",
      "Train indices :  [0 1 4 5]\n",
      "\n",
      "df train \n",
      "      X     y\n",
      "0  1.0   2.2\n",
      "1  2.0   3.9\n",
      "4  5.0  10.2\n",
      "5  6.0  11.7\n",
      "\n",
      "df val \n",
      "      X    y\n",
      "2  3.0  6.1\n",
      "3  4.0  7.8\n",
      "MSE SCORE = 0.018494809688581252\n",
      "\n",
      "\n",
      "\n",
      "Validation indices :  [4 5]\n",
      "Train indices :  [0 1 2 3]\n",
      "\n",
      "df train \n",
      "      X    y\n",
      "0  1.0  2.2\n",
      "1  2.0  3.9\n",
      "2  3.0  6.1\n",
      "3  4.0  7.8\n",
      "\n",
      "df val \n",
      "      X     y\n",
      "4  5.0  10.2\n",
      "5  6.0  11.7\n",
      "MSE SCORE = 0.10249999999999874\n",
      "\n",
      "\n",
      "\n"
     ]
    }
   ],
   "source": [
    "kfolds_mse_array = []  # array to store each fold mse score\n",
    "\n",
    "for i in range(k):\n",
    "\n",
    "\n",
    "    val_indices = kfold_indices[i]\n",
    "    print(\"Validation indices : \", val_indices)\n",
    "    \n",
    "    # train indices = which are not selected for validation\n",
    "    train_folds = []\n",
    "\n",
    "    for j in range(k):\n",
    "        if j != i:\n",
    "            train_folds.append(kfold_indices[j])\n",
    "\n",
    "    train_indices = np.concatenate(train_folds)\n",
    "    \n",
    "    print(\"Train indices : \", train_indices)\n",
    "    # print(\"X train: \\n\", X[train_indices])\n",
    "    # print(\"y train: \\n\", y[train_indices])\n",
    "    \n",
    "    df_train = pd.DataFrame({\n",
    "        \"X\" : X[train_indices].flatten(),\n",
    "        \"y\" : y[train_indices]\n",
    "    }, index= train_indices)\n",
    "\n",
    "    \n",
    "    df_val = pd.DataFrame({\n",
    "        \"X\" : X[val_indices].flatten(),\n",
    "        \"y\": y[val_indices]\n",
    "    }, index = val_indices)\n",
    "\n",
    "    print(\"\\ndf train \\n\", df_train.head())\n",
    "    print(\"\\ndf val \\n\", df_val.head())\n",
    "\n",
    "    # applying Linear regression on training fold\n",
    "    model.fit(df_train[['X']], df_train['y'])\n",
    "    \n",
    "    y_pred = model.predict(df_val[['X']])\n",
    "    y_actual = df_val['y']\n",
    "\n",
    "    mse_score = mean_squared_error(y_actual, y_pred)\n",
    "    print(f\"MSE SCORE = {mse_score}\")\n",
    "    kfolds_mse_array.append( mse_score )   \n",
    "\n",
    "    print(\"\\n\\n\")\n"
   ]
  },
  {
   "cell_type": "code",
   "execution_count": 118,
   "id": "96699b46-a112-4ba5-b421-5059d19630d6",
   "metadata": {},
   "outputs": [
    {
     "name": "stdout",
     "output_type": "stream",
     "text": [
      "[0.0316999999999996, 0.018494809688581252, 0.10249999999999874]\n"
     ]
    }
   ],
   "source": [
    "print(kfolds_mse_array)"
   ]
  },
  {
   "cell_type": "code",
   "execution_count": 121,
   "id": "9ee130f2-170d-4d28-baf5-ec12da8b9274",
   "metadata": {},
   "outputs": [
    {
     "name": "stdout",
     "output_type": "stream",
     "text": [
      "0.0508982698961932\n"
     ]
    }
   ],
   "source": [
    "avg_kfolds_mse = np.mean(kfolds_mse_array)\n",
    "print(avg_kfolds_mse)"
   ]
  },
  {
   "cell_type": "code",
   "execution_count": null,
   "id": "d3ed4e60-0052-4176-819f-c34feb2932b9",
   "metadata": {},
   "outputs": [],
   "source": []
  },
  {
   "cell_type": "code",
   "execution_count": null,
   "id": "2a0a48f2-6d9e-4219-86a2-90e969deeda4",
   "metadata": {},
   "outputs": [],
   "source": []
  }
 ],
 "metadata": {
  "kernelspec": {
   "display_name": "Python 3 (ipykernel)",
   "language": "python",
   "name": "python3"
  },
  "language_info": {
   "codemirror_mode": {
    "name": "ipython",
    "version": 3
   },
   "file_extension": ".py",
   "mimetype": "text/x-python",
   "name": "python",
   "nbconvert_exporter": "python",
   "pygments_lexer": "ipython3",
   "version": "3.11.9"
  }
 },
 "nbformat": 4,
 "nbformat_minor": 5
}

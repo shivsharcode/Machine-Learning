{
 "cells": [
  {
   "cell_type": "markdown",
   "id": "a849d116-10cb-4425-b484-079f4984ad56",
   "metadata": {},
   "source": [
    "## Step 0: Setup"
   ]
  },
  {
   "cell_type": "code",
   "execution_count": 3,
   "id": "c681f0ed-d31b-47ea-ac56-c153f9eff894",
   "metadata": {},
   "outputs": [],
   "source": [
    "from sklearn.datasets import load_iris  # dataset\n",
    "from sklearn.linear_model import LogisticRegression  # supervised classification model\n",
    "from sklearn.model_selection import KFold, cross_val_score  # for kfold cross validation and the performance scores"
   ]
  },
  {
   "cell_type": "markdown",
   "id": "570b56d9-a949-47c3-a35b-491c2f302bb3",
   "metadata": {},
   "source": [
    "## Step 1: load dataset"
   ]
  },
  {
   "cell_type": "code",
   "execution_count": 4,
   "id": "474f2410-ffe6-4b70-88d1-3e174cc854da",
   "metadata": {},
   "outputs": [],
   "source": [
    "iris = load_iris()"
   ]
  },
  {
   "cell_type": "code",
   "execution_count": 6,
   "id": "7b92e6b9-2441-4cb5-a667-486d1e6f7e02",
   "metadata": {},
   "outputs": [
    {
     "name": "stdout",
     "output_type": "stream",
     "text": [
      "data\n",
      "target\n",
      "frame\n",
      "target_names\n",
      "DESCR\n",
      "feature_names\n",
      "filename\n",
      "data_module\n"
     ]
    }
   ],
   "source": [
    "for key in iris:\n",
    "    print(key)"
   ]
  },
  {
   "cell_type": "code",
   "execution_count": 5,
   "id": "02fc3e38-fb0c-467f-851f-50db517ff03a",
   "metadata": {},
   "outputs": [],
   "source": [
    "X = iris.data\n",
    "y = iris.target"
   ]
  },
  {
   "cell_type": "code",
   "execution_count": 17,
   "id": "15c00d5b-05af-4db0-8095-99b17a605637",
   "metadata": {},
   "outputs": [
    {
     "data": {
      "text/html": [
       "<div>\n",
       "<style scoped>\n",
       "    .dataframe tbody tr th:only-of-type {\n",
       "        vertical-align: middle;\n",
       "    }\n",
       "\n",
       "    .dataframe tbody tr th {\n",
       "        vertical-align: top;\n",
       "    }\n",
       "\n",
       "    .dataframe thead th {\n",
       "        text-align: right;\n",
       "    }\n",
       "</style>\n",
       "<table border=\"1\" class=\"dataframe\">\n",
       "  <thead>\n",
       "    <tr style=\"text-align: right;\">\n",
       "      <th></th>\n",
       "      <th>sepal length (cm)</th>\n",
       "      <th>sepal width (cm)</th>\n",
       "      <th>petal length (cm)</th>\n",
       "      <th>petal width (cm)</th>\n",
       "      <th>target</th>\n",
       "    </tr>\n",
       "  </thead>\n",
       "  <tbody>\n",
       "    <tr>\n",
       "      <th>0</th>\n",
       "      <td>5.1</td>\n",
       "      <td>3.5</td>\n",
       "      <td>1.4</td>\n",
       "      <td>0.2</td>\n",
       "      <td>0</td>\n",
       "    </tr>\n",
       "    <tr>\n",
       "      <th>1</th>\n",
       "      <td>4.9</td>\n",
       "      <td>3.0</td>\n",
       "      <td>1.4</td>\n",
       "      <td>0.2</td>\n",
       "      <td>0</td>\n",
       "    </tr>\n",
       "    <tr>\n",
       "      <th>2</th>\n",
       "      <td>4.7</td>\n",
       "      <td>3.2</td>\n",
       "      <td>1.3</td>\n",
       "      <td>0.2</td>\n",
       "      <td>0</td>\n",
       "    </tr>\n",
       "    <tr>\n",
       "      <th>3</th>\n",
       "      <td>4.6</td>\n",
       "      <td>3.1</td>\n",
       "      <td>1.5</td>\n",
       "      <td>0.2</td>\n",
       "      <td>0</td>\n",
       "    </tr>\n",
       "    <tr>\n",
       "      <th>4</th>\n",
       "      <td>5.0</td>\n",
       "      <td>3.6</td>\n",
       "      <td>1.4</td>\n",
       "      <td>0.2</td>\n",
       "      <td>0</td>\n",
       "    </tr>\n",
       "  </tbody>\n",
       "</table>\n",
       "</div>"
      ],
      "text/plain": [
       "   sepal length (cm)  sepal width (cm)  petal length (cm)  petal width (cm)  \\\n",
       "0                5.1               3.5                1.4               0.2   \n",
       "1                4.9               3.0                1.4               0.2   \n",
       "2                4.7               3.2                1.3               0.2   \n",
       "3                4.6               3.1                1.5               0.2   \n",
       "4                5.0               3.6                1.4               0.2   \n",
       "\n",
       "   target  \n",
       "0       0  \n",
       "1       0  \n",
       "2       0  \n",
       "3       0  \n",
       "4       0  "
      ]
     },
     "execution_count": 17,
     "metadata": {},
     "output_type": "execute_result"
    }
   ],
   "source": [
    "# see the data as dataFrame\n",
    "\n",
    "import pandas as pd\n",
    "import numpy as np\n",
    "df = pd.DataFrame(X, columns = iris.feature_names)\n",
    "df['target'] = y\n",
    "df.head()"
   ]
  },
  {
   "cell_type": "markdown",
   "id": "ef1bf1a4-5e2f-419c-bff6-2c1e20327081",
   "metadata": {},
   "source": [
    "## Step 2: Initialise Classification model \n",
    "here Logistic Regression"
   ]
  },
  {
   "cell_type": "code",
   "execution_count": 20,
   "id": "b727403c-52be-4d3c-86b5-6d126580c752",
   "metadata": {},
   "outputs": [],
   "source": [
    "log_reg_model = LogisticRegression(max_iter = 1000)"
   ]
  },
  {
   "cell_type": "markdown",
   "id": "e4118feb-082b-4dff-8d1c-12fa6c33b65f",
   "metadata": {},
   "source": [
    "## Step 3: K folds Cross Validation"
   ]
  },
  {
   "cell_type": "code",
   "execution_count": 19,
   "id": "bcdfd3a9-532b-42e2-abde-4404ecc2e381",
   "metadata": {},
   "outputs": [],
   "source": [
    "# initialize kfolds object\n",
    "kf = KFold( n_splits = 5 )"
   ]
  },
  {
   "cell_type": "markdown",
   "id": "31dee6fe-2e2d-442e-8277-7e0e743fb2cd",
   "metadata": {},
   "source": [
    "we can also set other parameters here like : \n",
    "* `shuffle` : a boolean parameter, True by default, if True it shuffles the datapoint, Note: shuffle = False in TimeSeries\n",
    "* `random_state` : random seed for shuffling"
   ]
  },
  {
   "cell_type": "code",
   "execution_count": 23,
   "id": "43b7eb3b-aab3-406b-b510-0d673e9814f3",
   "metadata": {},
   "outputs": [],
   "source": [
    "# use the utility function cross_val_score which automates training/testing across folds and returns performance scores.\n",
    "scores = cross_val_score(\n",
    "    estimator = log_reg_model,   # model\n",
    "    X = X,     # samples\n",
    "    y = y,     # target\n",
    "    cv = kf,   # cross validation technique\n",
    "    scoring = \"accuracy\"  # performance metric\n",
    ")"
   ]
  },
  {
   "cell_type": "code",
   "execution_count": 32,
   "id": "5bdc7331-f198-4a66-b704-f5eb006a2e87",
   "metadata": {},
   "outputs": [
    {
     "name": "stdout",
     "output_type": "stream",
     "text": [
      "<class 'numpy.ndarray'>\n"
     ]
    }
   ],
   "source": [
    "print(type(scores))"
   ]
  },
  {
   "cell_type": "markdown",
   "id": "74cc3cba-c486-4ed2-bc3a-7047922ba0c6",
   "metadata": {},
   "source": [
    "## Step 4: Results"
   ]
  },
  {
   "cell_type": "code",
   "execution_count": 29,
   "id": "653ae93d-51f2-479e-935f-d01b0506d9a4",
   "metadata": {},
   "outputs": [
    {
     "name": "stdout",
     "output_type": "stream",
     "text": [
      "Cross Validation Scores (Accuracy each fold) :  [1.         1.         0.86666667 0.93333333 0.83333333]\n",
      "1.00\n",
      "1.00\n",
      "0.87\n",
      "0.93\n",
      "0.83\n"
     ]
    }
   ],
   "source": [
    "print(\"Cross Validation Scores (Accuracy each fold) : \", scores)\n",
    "for score in scores:\n",
    "    print(f\"{score:.2f}\")"
   ]
  },
  {
   "cell_type": "code",
   "execution_count": 33,
   "id": "ba7f7d96-a221-458b-b1d5-e34c322a81e6",
   "metadata": {},
   "outputs": [
    {
     "name": "stdout",
     "output_type": "stream",
     "text": [
      "Mean Accuracy :  0.9266666666666665\n"
     ]
    }
   ],
   "source": [
    "print(\"Mean Accuracy : \", scores.mean())"
   ]
  },
  {
   "cell_type": "markdown",
   "id": "0eb3dfde-ab32-463e-9b1d-66992df870da",
   "metadata": {},
   "source": [
    "So Average Accuracy with **Logistic Regression** on this dataset is 92.67 %"
   ]
  },
  {
   "cell_type": "code",
   "execution_count": null,
   "id": "bce9b5bb-1e33-4e86-b27f-a31b6bcc51d7",
   "metadata": {},
   "outputs": [],
   "source": []
  }
 ],
 "metadata": {
  "kernelspec": {
   "display_name": "Python 3 (ipykernel)",
   "language": "python",
   "name": "python3"
  },
  "language_info": {
   "codemirror_mode": {
    "name": "ipython",
    "version": 3
   },
   "file_extension": ".py",
   "mimetype": "text/x-python",
   "name": "python",
   "nbconvert_exporter": "python",
   "pygments_lexer": "ipython3",
   "version": "3.11.9"
  }
 },
 "nbformat": 4,
 "nbformat_minor": 5
}

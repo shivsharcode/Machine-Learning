{
 "cells": [
  {
   "cell_type": "markdown",
   "id": "3be1b31a-975d-4635-83c6-ae2b9c4b62ab",
   "metadata": {},
   "source": [
    "## Step 0: Setup"
   ]
  },
  {
   "cell_type": "code",
   "execution_count": 2,
   "id": "a42d0178-613c-438e-bb35-345c39cd04cc",
   "metadata": {},
   "outputs": [],
   "source": [
    "from sklearn.datasets import load_iris                 # dataset\n",
    "from sklearn.preprocessing import StandardScaler       # converts the distribution to mean = 0, std.dev = 1\n",
    "from sklearn.linear_model import LogisticRegression    # classification model\n",
    "from sklearn.pipeline import Pipeline                  # pipeline for scaling --> model\n",
    "from sklearn.model_selection import cross_val_score    # cross validation"
   ]
  },
  {
   "cell_type": "markdown",
   "id": "457b2eb6-8930-4c92-a180-1db84c028818",
   "metadata": {},
   "source": [
    "## Step 1: Load dataset"
   ]
  },
  {
   "cell_type": "code",
   "execution_count": 3,
   "id": "bb82561a-a3da-4f04-9e97-128ee3748789",
   "metadata": {},
   "outputs": [],
   "source": [
    "iris = load_iris()"
   ]
  },
  {
   "cell_type": "code",
   "execution_count": 4,
   "id": "908a5664-2903-4d47-875d-a1e80620823c",
   "metadata": {},
   "outputs": [
    {
     "name": "stdout",
     "output_type": "stream",
     "text": [
      "data\n",
      "target\n",
      "frame\n",
      "target_names\n",
      "DESCR\n",
      "feature_names\n",
      "filename\n",
      "data_module\n"
     ]
    }
   ],
   "source": [
    "for key in iris:\n",
    "    print(key)"
   ]
  },
  {
   "cell_type": "code",
   "execution_count": 5,
   "id": "e0d93c92-6c57-420e-8d35-9c50e882fea6",
   "metadata": {},
   "outputs": [],
   "source": [
    "X = iris.data\n",
    "y = iris.target"
   ]
  },
  {
   "cell_type": "markdown",
   "id": "c3c999f1-af91-4da8-84e1-14ee77801702",
   "metadata": {},
   "source": [
    "## Step 2: make a pipeline\n",
    "1. scale feature into standard scaling = mean = 0, standard dev = 1\n",
    "2. apply classification model onto the features"
   ]
  },
  {
   "cell_type": "code",
   "execution_count": 6,
   "id": "ac96d102-2462-43cf-8a96-144174f312a5",
   "metadata": {},
   "outputs": [],
   "source": [
    "pipe = Pipeline([\n",
    "    (\"scaler\", StandardScaler() ),     # step-1: apply scaling\n",
    "    (\"model\", LogisticRegression(max_iter = 1000) )   # step-2: apply classification model\n",
    "])"
   ]
  },
  {
   "cell_type": "code",
   "execution_count": 7,
   "id": "a848fa6e-6a12-417d-bfc7-4a63ced00bfd",
   "metadata": {},
   "outputs": [
    {
     "name": "stdout",
     "output_type": "stream",
     "text": [
      "Pipeline(steps=[('scaler', StandardScaler()),\n",
      "                ('model', LogisticRegression(max_iter=1000))])\n"
     ]
    }
   ],
   "source": [
    "print(pipe)"
   ]
  },
  {
   "cell_type": "markdown",
   "id": "d3a4182a-8af1-429d-9839-a42a27c44627",
   "metadata": {},
   "source": [
    "#### Note:\n",
    "`scalar` and `model` aren't any keywords, they are just the names I'm giving to the first and second step respectively"
   ]
  },
  {
   "cell_type": "markdown",
   "id": "f542e31c-cf5d-4765-bb8f-403b70f74fbf",
   "metadata": {},
   "source": [
    "## Step 3: apply cross validation using this pipeline"
   ]
  },
  {
   "cell_type": "code",
   "execution_count": 8,
   "id": "c55dcaae-741b-4315-abc6-f212cef7794d",
   "metadata": {},
   "outputs": [],
   "source": [
    "scores = cross_val_score(\n",
    "    estimator = pipe,     # pipeline of scaling -> classification model\n",
    "    X = X,                # will be subjected to the pipeline of (i) scaling and then (ii) applying model\n",
    "    y = y,                # target\n",
    "    cv = 5,               # 5 fold cv\n",
    "    scoring = 'accuracy'  # performance metric\n",
    ")"
   ]
  },
  {
   "cell_type": "markdown",
   "id": "6f20a927-d016-4b38-b15e-598e091782eb",
   "metadata": {},
   "source": [
    "## Step 4: Results"
   ]
  },
  {
   "cell_type": "code",
   "execution_count": 9,
   "id": "6fe77c10-8c74-4b56-8d31-36c4b1be85ae",
   "metadata": {},
   "outputs": [
    {
     "name": "stdout",
     "output_type": "stream",
     "text": [
      "Cross Validation Scores :  [0.96666667 1.         0.93333333 0.9        1.        ]\n"
     ]
    }
   ],
   "source": [
    "print(\"Cross Validation Scores : \", scores)"
   ]
  },
  {
   "cell_type": "code",
   "execution_count": 10,
   "id": "1aa1fa58-1beb-48b4-8c8c-ffbd12cb69c2",
   "metadata": {},
   "outputs": [
    {
     "name": "stdout",
     "output_type": "stream",
     "text": [
      "Average Mean Accuracy :  0.9600000000000002\n"
     ]
    }
   ],
   "source": [
    "print(\"Average Mean Accuracy : \", scores.mean())"
   ]
  },
  {
   "cell_type": "code",
   "execution_count": null,
   "id": "2f948e66-44b9-443d-84cd-cb7b65862c90",
   "metadata": {},
   "outputs": [],
   "source": []
  }
 ],
 "metadata": {
  "kernelspec": {
   "display_name": "Python 3 (ipykernel)",
   "language": "python",
   "name": "python3"
  },
  "language_info": {
   "codemirror_mode": {
    "name": "ipython",
    "version": 3
   },
   "file_extension": ".py",
   "mimetype": "text/x-python",
   "name": "python",
   "nbconvert_exporter": "python",
   "pygments_lexer": "ipython3",
   "version": "3.11.9"
  }
 },
 "nbformat": 4,
 "nbformat_minor": 5
}
